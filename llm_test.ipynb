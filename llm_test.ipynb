{
 "cells": [
  {
   "cell_type": "code",
   "execution_count": 10,
   "metadata": {},
   "outputs": [
    {
     "name": "stdout",
     "output_type": "stream",
     "text": [
      "[DEBUG] 正在创建/访问用户目录：/Users/coffee/Work/Vs Code/web_for_Inksoul/data_base/diary_db/U985\n"
     ]
    },
    {
     "name": "stderr",
     "output_type": "stream",
     "text": [
      "Number of requested results 20 is greater than number of elements in index 7, updating n_results = 7\n",
      "2025-03-15 12:26:44,071 - EmotionAnalyzer.U985 - WARNING - [WARNING] 检测到重复日记，跳过保存\n",
      "Number of requested results 20 is greater than number of elements in index 14, updating n_results = 14\n"
     ]
    },
    {
     "name": "stdout",
     "output_type": "stream",
     "text": [
      "{'emotional_basis': {'喜悦': 10, '信任': 5, '害怕': 20, '惊讶': 15, '难过': 30, '厌恶': 10, '生气': 5, '期待': 5}, 'emotion_type': ['怀旧', '孤独', '失落'], 'keywords': ['怀旧', '孤独', '失落'], 'immediate_suggestion': '建议用户尝试与朋友或家人分享这些感受，或者通过写日记、绘画等方式表达内心的情感。同时，可以尝试进行一些放松的活动，如冥想、散步等，以缓解内心的孤独和失落感。'}\n"
     ]
    }
   ],
   "source": [
    "from LLM.llm import EmotionAnalyzer\n",
    "from datetime import datetime\n",
    "\n",
    "\n",
    "user_id = \"U985\"\n",
    "mode = \"daily\"\n",
    "test_diary = '阁楼储物箱的霉味里混进柳絮气息，断线风筝的竹骨在月光下咯吱作响。去年缠在晾衣架上的风筝线突然自行松脱，在水泥地上蜿蜒成未标注的河道。而夜风途经生锈的自行车铃时，捎来了遥远的海浪声。'\n",
    "date = datetime(2025, 3, 15, 14, 30)\n",
    "\n",
    "analyze = EmotionAnalyzer(user_id)\n",
    "result = analyze.analyze(mode, test_diary, date)\n",
    "print(result)"
   ]
  },
  {
   "cell_type": "code",
   "execution_count": 11,
   "metadata": {},
   "outputs": [
    {
     "name": "stdout",
     "output_type": "stream",
     "text": [
      "[DEBUG] 正在创建/访问用户目录：/Users/coffee/Work/Vs Code/web_for_Inksoul/data_base/diary_db/U985\n",
      "已保存的日记日期： ['2024-03-09', '2024-03-10', '2024-03-11', '2024-03-12', '2024-03-13', '2024-03-14', '2024-03-15', '2025-03-09', '2025-03-10', '2025-03-11', '2025-03-12', '2025-03-13', '2025-03-14', '2025-03-15']\n"
     ]
    },
    {
     "name": "stderr",
     "output_type": "stream",
     "text": [
      "Number of requested results 20 is greater than number of elements in index 7, updating n_results = 7\n",
      "Number of requested results 20 is greater than number of elements in index 14, updating n_results = 14\n"
     ]
    },
    {
     "name": "stdout",
     "output_type": "stream",
     "text": [
      "{'emotional_basis': {'喜悦': 15, '信任': 20, '害怕': 10, '惊讶': 15, '难过': 25, '厌恶': 5, '生气': 5, '期待': 15}, 'dominant_emotion': '难过', 'emotion_trend': '本周的情绪趋势呈现出一种怀旧和淡淡的忧伤。日记中多次提到过去的回忆，如旧杂志、未寄出的信、干枯的樱花、数学试卷的批改痕迹等，这些细节都透露出对过去时光的怀念和一丝无奈。同时，日记中也提到了一些期待的元素，如等待雨季过去、期待与朋友的再次见面等，但这些期待似乎被现实的孤独和距离所冲淡。整体情绪呈现出一种复杂的混合状态，既有对过去的怀念，也有对未来的期待，但更多的是对现状的无奈和淡淡的忧伤。', 'weekly_advice': '建议尝试通过一些积极的活动来调节情绪，如与朋友或家人进行面对面的交流，参与一些户外活动或兴趣小组，以增加社交互动和新鲜感。同时，可以尝试整理和清理一些旧物，以减轻对过去的过度依赖，并为新的事物和经历腾出空间。此外，设定一些短期和长期的目标，可以帮助你更好地聚焦于未来，减少对过去的过度关注。', 'key_words': ['旧杂志', '未寄出的信', '干枯的樱花', '数学试卷', '雨季', '朋友', '期待', '怀旧', '孤独', '距离']}\n"
     ]
    },
    {
     "name": "stderr",
     "output_type": "stream",
     "text": [
      "Number of requested results 20 is greater than number of elements in index 7, updating n_results = 7\n",
      "Number of requested results 20 is greater than number of elements in index 14, updating n_results = 14\n"
     ]
    },
    {
     "name": "stdout",
     "output_type": "stream",
     "text": [
      "{'emotional_basis': {'喜悦': 30, '信任': 25, '害怕': 10, '惊讶': 15, '难过': 5, '厌恶': 0, '生气': 0, '期待': 15}, 'dominant_emotion': '喜悦', 'emotion_trend': '本周的情绪整体偏向积极，喜悦和信任占据了主导地位。日记中充满了对自然和生活的细腻观察，如晨光、绿芽、红豆汤等，这些细节反映了内心的平静与满足。同时，期待的情绪也较为明显，体现在对未来的憧憬和计划上，如志愿调查表、机票降价提醒等。害怕和难过的情绪较少，表明本周的心理状态较为稳定。', 'weekly_advice': '继续保持对生活的细致观察和积极态度，这有助于维持良好的心理状态。可以尝试将期待的情绪转化为实际行动，如制定具体的计划或目标，以增强生活的方向感和成就感。同时，注意保持情绪的平衡，避免过度期待带来的压力。', 'key_words': ['晨光', '绿芽', '红豆汤', '志愿调查表', '机票降价提醒', '双子座流星雨', '咖啡香', '春']}\n"
     ]
    }
   ],
   "source": [
    "from LLM.llm import EmotionAnalyzer\n",
    "from datetime import datetime\n",
    "\n",
    "user_id = \"U985\"\n",
    "mode = \"weekly\"\n",
    "start_date = datetime(2024, 3, 9)\n",
    "end_date = datetime(2024, 3, 15)\n",
    "\n",
    "analyze = EmotionAnalyzer(user_id)\n",
    "print(\"已保存的日记日期：\", analyze.get_diary_dates())\n",
    "\n",
    "# 指定日期模式\n",
    "result = analyze.analyze(\n",
    "    mode = mode, \n",
    "    start_date=start_date, \n",
    "    end_date=end_date)\n",
    "print(result)\n",
    "\n",
    "# 默认日期模式（过去7天）\n",
    "result = analyze.analyze(\n",
    "    mode = mode, \n",
    ")\n",
    "print(result)"
   ]
  }
 ],
 "metadata": {
  "kernelspec": {
   "display_name": "langchain-env",
   "language": "python",
   "name": "python3"
  },
  "language_info": {
   "codemirror_mode": {
    "name": "ipython",
    "version": 3
   },
   "file_extension": ".py",
   "mimetype": "text/x-python",
   "name": "python",
   "nbconvert_exporter": "python",
   "pygments_lexer": "ipython3",
   "version": "3.10.16"
  }
 },
 "nbformat": 4,
 "nbformat_minor": 2
}
