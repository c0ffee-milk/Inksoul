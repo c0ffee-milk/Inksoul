{
 "cells": [
  {
   "cell_type": "code",
   "execution_count": 1,
   "metadata": {},
   "outputs": [
    {
     "name": "stdout",
     "output_type": "stream",
     "text": [
      "[DEBUG] 正在创建/访问用户目录：/Users/coffee/Work/VsCode/web_for_Inksoul/data_base/diary_db/U211\n",
      "{'overall_analysis': '您的日记展现了一种细腻的生活观察与复杂的情感交织。晨跑时的太极老人、早餐铺的温暖互动、旧书店的怀旧时光，都透露出对生活细节的敏感捕捉。然而，升舱短信触发的记忆、帮邻居修门锁时的代际差异，以及电梯里的疲惫面孔，又暗示着某种对时间流逝和现代生活疏离感的微妙焦虑。整体上，您的情感基调是平和中有波澜，温暖里带沉思。', 'emotional_basis': {'喜悦': 65, '信任': 70, '害怕': 20, '惊讶': 30, '难过': 40, '厌恶': 10, '生气': 5, '期待': 50}, 'emotion_label': ['怀旧的慰藉', '温柔的疏离', '时光焦虑'], 'emotion_type': '平和', 'keywords': {'晨跑太极': 85, '早餐铺人情': 90, '旧书店怀旧': 75, '里程过期': 60, '赛博弄堂': 50, '电梯疲惫': 40}, 'immediate_suggestion': {'music': {'music_suggestion1': '《The Gold》- Vancouver Sleep Clinic，空灵电子音适合梳理怀旧情绪', 'music_suggestion2': '《城南旧事》电影原声，琵琶与钢琴交织出时光流逝感'}, 'books': '《看不见的城市》- 卡尔维诺，关于记忆与城市的诗意叙述，与您发现的粮票形成互文', 'activities': '今晚适合用老式信纸给三年后的自己写封信，定格此刻对时间流逝的感悟', 'techniques': '观察练习：明早买早餐时专注记录三种声音、两种质地，用感官体验对抗抽象焦虑'}, 'history_moment': '1935年，本雅明在巴黎旧书摊淘到一张19世纪明信片时同样怔住——那些被遗忘的通讯地址，与您发现的粮票一样，都是时光洪流中的漂流瓶。'}\n"
     ]
    }
   ],
   "source": [
    "from LLM.llm import EmotionAnalyzer\n",
    "from datetime import datetime\n",
    "\n",
    "\n",
    "user_id = \"U211\"\n",
    "mode = \"daily\"\n",
    "test_diary = '2024-6-18\\n晨跑时撞见梧桐树下练太极的老人们，白衣随动作翻飞如鸽群，收势时齐齐朝我点头微笑，仿佛整条街道都在呼吸。拐角早餐铺的油墩子涨价五毛，老板娘硬塞给我两个刚炸的南瓜饼：\"年轻人流汗多，补补糖分。\"午后在旧书店消磨时光，发现1987年版《上海滩》连环画夹着张泛黄的粮票。戴圆框眼镜的店主正给流浪猫读《追忆似水年华》，阳光斜切过书架，灰尘在光柱里跳探戈。突然收到航空公司升舱短信，才想起三年前囤的里程快过期——那些计划着去冰岛看极光的夜晚，原来和罐头一样有保质期。暮色里帮邻居修智能门锁，00后男孩递来的工具箱贴着奥特曼贴纸。他抱怨元宇宙课程作业要建\"赛博弄堂\"，却说不清石库门砖缝里的青苔该怎么用代码渲染。回家时电梯镜面映出四张相似的疲惫面孔，我们默契地数着楼层数字，在\"叮\"的一声里各自溶解进防盗门后的灯火。'\n",
    "date = datetime(2024, 6, 18, 14, 30, 0)\n",
    "\n",
    "analyze = EmotionAnalyzer(user_id)\n",
    "result = analyze.analyze(mode, test_diary, date)\n",
    "print(result)"
   ]
  },
  {
   "cell_type": "code",
   "execution_count": 12,
   "metadata": {},
   "outputs": [
    {
     "name": "stdout",
     "output_type": "stream",
     "text": [
      "[DEBUG] 正在创建/访问用户目录：/Users/coffee/Work/VsCode/web_for_Inksoul/data_base/diary_db/U211\n"
     ]
    },
    {
     "name": "stderr",
     "output_type": "stream",
     "text": [
      "2025-04-09 23:04:42,858 - EmotionAnalyzer.U211 - INFO - [SUCCESS] 日记已保存（时间：2024-06-15 14:35:00）\n"
     ]
    },
    {
     "name": "stdout",
     "output_type": "stream",
     "text": [
      "已保存的日记日期： ['2024-06-15', '2024-06-16', '2024-06-17', '2024-06-18']\n"
     ]
    }
   ],
   "source": [
    "from LLM.llm import EmotionAnalyzer\n",
    "from datetime import datetime\n",
    "\n",
    "user_id = \"U211\"\n",
    "date = datetime(2024, 6, 15, 14, 35, 0)\n",
    "diary = '2024-6-15\\n地铁早高峰有人外放短视频，循环播放\"挖呀挖\"神曲。前排穿灰西装的大哥公文包上粘着幼儿园贴纸，屏幕里浮动的K线图和包上歪扭的太阳花构成荒诞对冲。出站时踩到湿漉漉的银杏果，腐坏的气味像被踩碎的秋天。午休溜去新开的无人超市，冷柜里沙拉包装上印着\"数字游牧套餐\"，扫码时机器突然播报：\"您本周摄入纤维不足，建议加购羽衣甘蓝汁。\" 货架深处的AI摄像头闪着蓝光，恍惚觉得不是我在挑选商品，是算法在喂养数据。'\n",
    "\n",
    "analyze = EmotionAnalyzer(user_id)  # 创建新实例\n",
    "log_result = analyze.log_diary(diary, date.timestamp())\n",
    "print(\"已保存的日记日期：\", analyze.get_diary_dates())"
   ]
  },
  {
   "cell_type": "code",
   "execution_count": 2,
   "metadata": {},
   "outputs": [
    {
     "name": "stdout",
     "output_type": "stream",
     "text": [
      "[DEBUG] 正在创建/访问用户目录：/Users/coffee/Work/VsCode/web_for_Inksoul/data_base/diary_db/U211\n",
      "已保存的日记日期： ['2024-06-15', '2024-06-16', '2024-06-17', '2024-06-18']\n",
      "start_date: 2024-06-01 00:00:00 end_date: 2024-06-16 00:00:00\n"
     ]
    },
    {
     "name": "stderr",
     "output_type": "stream",
     "text": [
      "Number of requested results 20 is greater than number of elements in index 5, updating n_results = 5\n"
     ]
    },
    {
     "name": "stdout",
     "output_type": "stream",
     "text": [
      "{'diary_review': '过去这段时间里，您的生活充满了细腻的观察和微妙的情感波动。从清晨被桂花香唤醒的愉悦，到部门例会的紧张焦灼；从提案通过的成就感，到地铁早高峰的烦躁与荒诞感。您既能在日常小事中发现诗意（如咖啡洒出的随性味道），也在科技与生活的碰撞中思考（如AI摄像头与算法的存在感）。', 'emotional_basis': {'喜悦': 40, '信任': 30, '害怕': 10, '惊讶': 20, '难过': 15, '厌恶': 25, '生气': 20, '期待': 35}, 'domain_event': {'2024-6-15': {'event': '提案通过并享受生活中的小确幸', 'emotion': '欣慰与成就感'}}, 'emotion_trend': '情绪呈现波动式变化，从清晨的愉悦和随性，到上午会议的紧张焦灼，再到提案通过的成就感，最后在地铁早高峰中感受到烦躁与荒诞。整体上，积极情绪与消极情绪交替出现，但积极情绪略占上风。', 'weekly_advice': '建议您每天留出10分钟的‘感官时刻’，专注于生活中的小确幸，比如闻一闻花香、品尝一杯咖啡的滋味，或是观察周围的环境。这些微型仪式能帮助您缓解压力，增强对当下的感知。同时，可以尝试在午休时短暂散步，远离屏幕，放松身心。', 'event_key_words': {'小确幸': 70, '工作压力': 60, '成就感': 75, '烦躁': 50, '荒诞感': 45, '感官体验': 65, '科技反思': 55}, 'emotion_key_words': {'欣慰': 60, '紧张': 45, '成就感': 70, '烦躁': 50, '荒诞': 40, '随性': 55, '反思': 35}, 'famous_quote': '「生活不是我们活过的日子，而是我们记住的日子，我们为了讲述而在记忆中重现的日子。」——加西亚·马尔克斯《活着为了讲述》'}\n"
     ]
    }
   ],
   "source": [
    "from LLM.llm import EmotionAnalyzer\n",
    "from datetime import datetime\n",
    "\n",
    "user_id = \"U211\"\n",
    "mode = \"weekly\"\n",
    "start_date = datetime(2024, 6, 1)\n",
    "end_date = datetime(2024, 6, 16)\n",
    "\n",
    "analyze = EmotionAnalyzer(user_id)\n",
    "print(\"已保存的日记日期：\", analyze.get_diary_dates())\n",
    "\n",
    "# 指定日期模式\n",
    "result = analyze.analyze(\n",
    "    mode = mode, \n",
    "    start_date=start_date, \n",
    "    end_date=end_date)\n",
    "print(result)\n",
    "\n",
    "# 默认日期模式（过去7天）\n",
    "# result = analyze.analyze(\n",
    "#     mode = mode, \n",
    "# )\n",
    "# print(result)"
   ]
  },
  {
   "cell_type": "code",
   "execution_count": null,
   "metadata": {},
   "outputs": [],
   "source": [
    "from LLM.llm import EmotionAnalyzer\n",
    "from datetime import datetime\n",
    "\n",
    "user_id = \"U211\"\n",
    "date = datetime(2024, 6, 15, 14, 35, 0)\n",
    "\n",
    "analyze = EmotionAnalyzer(user_id)  # 创建新实例\n",
    "print(\"已保存的日记日期：\", analyze.get_diary_dates())\n",
    "delete_result = analyze.delete_diary(date)\n",
    "print(delete_result)\n",
    "print(\"已保存的日记日期：\", analyze.get_diary_dates())"
   ]
  }
 ],
 "metadata": {
  "kernelspec": {
   "display_name": "langchain-env",
   "language": "python",
   "name": "python3"
  },
  "language_info": {
   "codemirror_mode": {
    "name": "ipython",
    "version": 3
   },
   "file_extension": ".py",
   "mimetype": "text/x-python",
   "name": "python",
   "nbconvert_exporter": "python",
   "pygments_lexer": "ipython3",
   "version": "3.10.16"
  }
 },
 "nbformat": 4,
 "nbformat_minor": 2
}
