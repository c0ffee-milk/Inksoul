{
 "cells": [
  {
   "cell_type": "code",
   "execution_count": 2,
   "metadata": {},
   "outputs": [
    {
     "name": "stdout",
     "output_type": "stream",
     "text": [
      "[DEBUG] 正在创建/访问用户目录：/Users/coffee/Work/Vs Code/web_for_Inksoul/data_base/diary_db/U985\n"
     ]
    },
    {
     "name": "stderr",
     "output_type": "stream",
     "text": [
      "Number of requested results 20 is greater than number of elements in index 7, updating n_results = 7\n",
      "2025-03-19 22:35:40,445 - EmotionAnalyzer.U985 - WARNING - [WARNING] 检测到重复日记，跳过保存\n"
     ]
    },
    {
     "name": "stdout",
     "output_type": "stream",
     "text": [
      "{'overall_analysis': '用户的日记充满了对过去的回忆和对自然环境的细腻感知。通过描述阁楼储物箱的霉味、断线风筝的竹骨、松脱的风筝线以及夜风带来的海浪声，用户展现了一种怀旧和孤独的情绪。这些元素共同营造出一种宁静而又略带忧伤的氛围，反映出用户对过去时光的怀念和对自然变化的敏感。', 'emotional_basis': {'喜悦': 10, '信任': 20, '害怕': 15, '惊讶': 10, '难过': 30, '厌恶': 5, '生气': 5, '期待': 5}, 'emotion_type': ['怀旧', '孤独', '宁静'], 'keywords': ['阁楼储物箱', '断线风筝', '风筝线', '夜风', '海浪声'], 'immediate_suggestion': {'音乐推荐': '推荐听一些轻柔的民谣或古典音乐，如《River Flows in You》或《Clair de Lune》，这些音乐能够帮助用户放松心情，沉浸在回忆中。', '电影/书籍推荐': '推荐观看电影《海上钢琴师》或阅读村上春树的《挪威的森林》，这些作品能够引发用户对过去和自然的深刻思考。', '活动建议': '今天适合在傍晚时分散步，感受自然的变化和夜风的轻抚，这有助于缓解内心的孤独感。', '心理调节小技巧': '尝试进行深呼吸练习，闭上眼睛，专注于呼吸的节奏，感受每一次吸气和呼气，这有助于平静心情，减轻内心的忧伤。'}}\n"
     ]
    }
   ],
   "source": [
    "from LLM.llm import EmotionAnalyzer\n",
    "from datetime import datetime\n",
    "\n",
    "\n",
    "user_id = \"U985\"\n",
    "mode = \"daily\"\n",
    "test_diary = '阁楼储物箱的霉味里混进柳絮气息，断线风筝的竹骨在月光下咯吱作响。去年缠在晾衣架上的风筝线突然自行松脱，在水泥地上蜿蜒成未标注的河道。而夜风途经生锈的自行车铃时，捎来了遥远的海浪声。'\n",
    "date = datetime(2025, 3, 15, 14, 30)\n",
    "\n",
    "analyze = EmotionAnalyzer(user_id)\n",
    "result = analyze.analyze(mode, test_diary, date)\n",
    "print(result)"
   ]
  },
  {
   "cell_type": "code",
   "execution_count": null,
   "metadata": {},
   "outputs": [],
   "source": [
    "from LLM.llm import EmotionAnalyzer\n",
    "from datetime import datetime\n",
    "\n",
    "user_id = \"U985\"\n",
    "mode = \"weekly\"\n",
    "start_date = datetime(2024, 3, 9)\n",
    "end_date = datetime(2024, 3, 15)\n",
    "\n",
    "analyze = EmotionAnalyzer(user_id)\n",
    "print(\"已保存的日记日期：\", analyze.get_diary_dates())\n",
    "\n",
    "# 指定日期模式\n",
    "result = analyze.analyze(\n",
    "    mode = mode, \n",
    "    start_date=start_date, \n",
    "    end_date=end_date)\n",
    "print(result)\n",
    "\n",
    "# 默认日期模式（过去7天）\n",
    "result = analyze.analyze(\n",
    "    mode = mode, \n",
    ")\n",
    "print(result)"
   ]
  }
 ],
 "metadata": {
  "kernelspec": {
   "display_name": "langchain-env",
   "language": "python",
   "name": "python3"
  },
  "language_info": {
   "codemirror_mode": {
    "name": "ipython",
    "version": 3
   },
   "file_extension": ".py",
   "mimetype": "text/x-python",
   "name": "python",
   "nbconvert_exporter": "python",
   "pygments_lexer": "ipython3",
   "version": "3.10.16"
  }
 },
 "nbformat": 4,
 "nbformat_minor": 2
}
