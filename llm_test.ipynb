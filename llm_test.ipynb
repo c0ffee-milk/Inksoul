{
 "cells": [
  {
   "cell_type": "code",
   "execution_count": null,
   "metadata": {},
   "outputs": [],
   "source": [
    "from LLM.llm import EmotionAnalyzer\n",
    "from datetime import datetime\n",
    "\n",
    "\n",
    "user_id = \"U211\"\n",
    "mode = \"daily\"\n",
    "test_diary = '2024-6-18\\n晨跑时撞见梧桐树下练太极的老人们，白衣随动作翻飞如鸽群，收势时齐齐朝我点头微笑，仿佛整条街道都在呼吸。拐角早餐铺的油墩子涨价五毛，老板娘硬塞给我两个刚炸的南瓜饼：\"年轻人流汗多，补补糖分。\"午后在旧书店消磨时光，发现1987年版《上海滩》连环画夹着张泛黄的粮票。戴圆框眼镜的店主正给流浪猫读《追忆似水年华》，阳光斜切过书架，灰尘在光柱里跳探戈。突然收到航空公司升舱短信，才想起三年前囤的里程快过期——那些计划着去冰岛看极光的夜晚，原来和罐头一样有保质期。暮色里帮邻居修智能门锁，00后男孩递来的工具箱贴着奥特曼贴纸。他抱怨元宇宙课程作业要建\"赛博弄堂\"，却说不清石库门砖缝里的青苔该怎么用代码渲染。回家时电梯镜面映出四张相似的疲惫面孔，我们默契地数着楼层数字，在\"叮\"的一声里各自溶解进防盗门后的灯火。'\n",
    "date = datetime(2024, 6, 18, 14, 30, 0)\n",
    "\n",
    "analyze = EmotionAnalyzer(user_id)\n",
    "result = analyze.analyze(mode, test_diary, date)\n",
    "print(result)"
   ]
  },
  {
   "cell_type": "code",
   "execution_count": 12,
   "metadata": {},
   "outputs": [
    {
     "name": "stdout",
     "output_type": "stream",
     "text": [
      "[DEBUG] 正在创建/访问用户目录：/Users/coffee/Work/VsCode/web_for_Inksoul/data_base/diary_db/U211\n"
     ]
    },
    {
     "name": "stderr",
     "output_type": "stream",
     "text": [
      "2025-04-09 23:04:42,858 - EmotionAnalyzer.U211 - INFO - [SUCCESS] 日记已保存（时间：2024-06-15 14:35:00）\n"
     ]
    },
    {
     "name": "stdout",
     "output_type": "stream",
     "text": [
      "已保存的日记日期： ['2024-06-15', '2024-06-16', '2024-06-17', '2024-06-18']\n"
     ]
    }
   ],
   "source": [
    "from LLM.llm import EmotionAnalyzer\n",
    "from datetime import datetime\n",
    "\n",
    "user_id = \"U211\"\n",
    "date = datetime(2024, 6, 15, 14, 35, 0)\n",
    "diary = '2024-6-15\\n地铁早高峰有人外放短视频，循环播放\"挖呀挖\"神曲。前排穿灰西装的大哥公文包上粘着幼儿园贴纸，屏幕里浮动的K线图和包上歪扭的太阳花构成荒诞对冲。出站时踩到湿漉漉的银杏果，腐坏的气味像被踩碎的秋天。午休溜去新开的无人超市，冷柜里沙拉包装上印着\"数字游牧套餐\"，扫码时机器突然播报：\"您本周摄入纤维不足，建议加购羽衣甘蓝汁。\" 货架深处的AI摄像头闪着蓝光，恍惚觉得不是我在挑选商品，是算法在喂养数据。'\n",
    "\n",
    "analyze = EmotionAnalyzer(user_id)  # 创建新实例\n",
    "log_result = analyze.log_diary(diary, date.timestamp())\n",
    "print(\"已保存的日记日期：\", analyze.get_diary_dates())"
   ]
  },
  {
   "cell_type": "code",
   "execution_count": 1,
   "metadata": {},
   "outputs": [
    {
     "name": "stdout",
     "output_type": "stream",
     "text": [
      "[DEBUG] 正在创建/访问用户目录：/Users/coffee/Work/VsCode/web_for_Inksoul/data_base/diary_db/U211\n",
      "已保存的日记日期： ['2024-06-15', '2024-06-16', '2024-06-17', '2024-06-18']\n"
     ]
    },
    {
     "name": "stderr",
     "output_type": "stream",
     "text": [
      "Number of requested results 20 is greater than number of elements in index 5, updating n_results = 5\n"
     ]
    },
    {
     "name": "stdout",
     "output_type": "stream",
     "text": [
      "{'diary_review': '过去几天里，您的生活充满了细腻的观察和微妙的情感波动。从雨中回忆童年，到与同事共享辣味午餐；从清晨被桂花香唤醒，到深夜弹奏生锈的吉他；从发现社区图书馆的温暖，到与发小跨越时空的对话——这些片段交织成您独特的情感图谱。您既在日常生活里捕捉诗意（如羊角包香气与钢琴声的交融），也在科技与传统的碰撞中思考（如元宇宙作业与石库门青苔的对比）。', 'emotional_basis': {'喜悦': 35, '信任': 25, '害怕': 10, '惊讶': 20, '难过': 30, '厌恶': 5, '生气': 5, '期待': 40}, 'domain_event': {'2024-6-15': {'event': '被桂花香唤醒并完成重要提案', 'emotion': '欣慰与成就感'}, '2024-6-16': {'event': '雨中回忆童年并与同事共进辣味午餐', 'emotion': '怀旧与温暖'}, '2024-6-17': {'event': '与发小跨时空对话并发现社区图书馆夜读区', 'emotion': '连接感与宁静'}, '2024-6-18': {'event': '发现旧书店粮票与收到里程过期提醒', 'emotion': '时光流逝的怅惘'}}, 'emotion_trend': '情绪呈现波浪式变化，从15日的积极满足，到16日加入怀旧色彩，17日达到情感连接的高点，18日因时间感知而产生轻微低落。期待感始终作为基底情绪存在，但后期混合了更多对时光流逝的敏感。', 'weekly_advice': \"建议每天预留15分钟'感官时刻'：周一闻三种不同气味，周二触摸五种材质，周三记录三种声音，周四观察光线变化，周五重温旧物触感。周末可尝试将吉他送去换弦，或拜访那位读普鲁斯特的猫店主。这些微型仪式能锚定您对当下的感知，缓解时间焦虑。\", 'event_key_words': {'怀旧触发': 70, '跨代交流': 60, '感官记忆': 85, '时间感知': 75, '科技与传统碰撞': 50, '微小确幸': 65, '未完成计划': 40, '城市诗意': 55}, 'emotion_key_words': {'温柔的怅惘': 60, '克制的喜悦': 45, '悬浮的期待': 70, '疏离的观察': 35, '时光焦虑': 50, '连接渴望': 55, '审美触动': 65, '幽默化解': 30}, 'famous_quote': '「记忆中的形象一旦被词语固定住，就会抹去其他可能的含义。」——卡尔维诺《看不见的城市》（您日记中那些未被文字固化的微妙情绪，恰是最珍贵的部分）'}\n"
     ]
    }
   ],
   "source": [
    "from LLM.llm import EmotionAnalyzer\n",
    "from datetime import datetime\n",
    "\n",
    "user_id = \"U211\"\n",
    "mode = \"weekly\"\n",
    "start_date = datetime(2024, 6, 1)\n",
    "end_date = datetime(2024, 7, 30)\n",
    "\n",
    "analyze = EmotionAnalyzer(user_id)\n",
    "print(\"已保存的日记日期：\", analyze.get_diary_dates())\n",
    "\n",
    "# 指定日期模式\n",
    "result = analyze.analyze(\n",
    "    mode = mode, \n",
    "    start_date=start_date, \n",
    "    end_date=end_date)\n",
    "print(result)\n",
    "\n",
    "# 默认日期模式（过去7天）\n",
    "# result = analyze.analyze(\n",
    "#     mode = mode, \n",
    "# )\n",
    "# print(result)"
   ]
  },
  {
   "cell_type": "code",
   "execution_count": null,
   "metadata": {},
   "outputs": [],
   "source": [
    "from LLM.llm import EmotionAnalyzer\n",
    "from datetime import datetime\n",
    "\n",
    "user_id = \"U211\"\n",
    "date = datetime(2024, 6, 15, 14, 35, 0)\n",
    "\n",
    "analyze = EmotionAnalyzer(user_id)  # 创建新实例\n",
    "print(\"已保存的日记日期：\", analyze.get_diary_dates())\n",
    "delete_result = analyze.delete_diary(date)\n",
    "print(delete_result)\n",
    "print(\"已保存的日记日期：\", analyze.get_diary_dates())"
   ]
  }
 ],
 "metadata": {
  "kernelspec": {
   "display_name": "langchain-env",
   "language": "python",
   "name": "python3"
  },
  "language_info": {
   "codemirror_mode": {
    "name": "ipython",
    "version": 3
   },
   "file_extension": ".py",
   "mimetype": "text/x-python",
   "name": "python",
   "nbconvert_exporter": "python",
   "pygments_lexer": "ipython3",
   "version": "3.10.16"
  }
 },
 "nbformat": 4,
 "nbformat_minor": 2
}
