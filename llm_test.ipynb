{
 "cells": [
  {
   "cell_type": "code",
   "execution_count": 1,
   "metadata": {},
   "outputs": [
    {
     "name": "stdout",
     "output_type": "stream",
     "text": [
      "[DEBUG] 正在创建/访问用户目录：/Users/coffee/Work/Vs Code/web_for_Inksoul/data_base/diary_db/U985\n"
     ]
    },
    {
     "name": "stderr",
     "output_type": "stream",
     "text": [
      "2025-03-21 19:34:29,235 - EmotionAnalyzer.U985 - WARNING - [WARNING] 检测到重复日记，跳过保存\n"
     ]
    },
    {
     "name": "stdout",
     "output_type": "stream",
     "text": [
      "{'overall_analysis': '您的日记反映出一种复杂的情绪状态，既有对过去的怀念，也有对现状的不满和自我批评。您提到自己‘堕落’并渴望生活中的‘大波浪’，这表明您可能正处于一种寻求改变和自我更新的状态。同时，您对朋友的思念和对现状的反思，显示出您内心深处对联系和意义的渴望。', 'emotional_basis': {'喜悦': 10, '信任': 15, '害怕': 20, '惊讶': 5, '难过': 25, '厌恶': 10, '生气': 10, '期待': 15}, 'emotion_type': ['怀旧', '自我怀疑', '渴望改变'], 'keywords': ['堕落', '刺激', '大波浪'], 'immediate_suggestion': {'音乐推荐': '建议您听一些节奏感强、充满活力的音乐，如摇滚或电子音乐，以激发您的活力和积极性。', '电影/书籍推荐': '推荐您观看电影《搏击俱乐部》，它探讨了现代生活中的空虚和寻找自我的主题，可能会引起您的共鸣。', '活动建议': '今天适合进行一些户外活动，如跑步或骑自行车，这些活动可以帮助您释放压力，同时激发新的想法和动力。', '心理调节小技巧': '尝试进行深呼吸练习，每天三次，每次五分钟，这有助于您放松心情，集中注意力。'}, 'history_moment': '1918年，弗吉尼亚·伍尔夫在日记中表达了对生活的不满和对创作的渴望，她决定通过写作来寻找自我，最终创作了《达洛维夫人》。'}\n"
     ]
    }
   ],
   "source": [
    "from LLM.llm import EmotionAnalyzer\n",
    "from datetime import datetime\n",
    "\n",
    "\n",
    "user_id = \"U985\"\n",
    "mode = \"daily\"\n",
    "test_diary = '起来晚了，第一堂课没来得及上，空堂时可筠的同学宁家英来了，告诉我有一封信，是武昌来的，果然是可筠的，她说我与一般老朋友真是音信杳然了。然而我的的确确随时都想着她们，只是懒得不想提笔而已。我发现我是真的堕落了，从灵魂堕落起，外表上也许别人以为我活得很有生气，可是实际上我已经不堪了。我需要一点刺激，需要在我的生活来一个大的波浪，这样也许我可能从新干下去。'\n",
    "date = datetime(2025, 3, 15, 14, 30)\n",
    "\n",
    "analyze = EmotionAnalyzer(user_id)\n",
    "result = analyze.analyze(mode, test_diary, date)\n",
    "print(result)"
   ]
  },
  {
   "cell_type": "code",
   "execution_count": null,
   "metadata": {},
   "outputs": [],
   "source": [
    "from LLM.llm import EmotionAnalyzer\n",
    "from datetime import datetime\n",
    "\n",
    "user_id = \"U985\"\n",
    "mode = \"weekly\"\n",
    "start_date = datetime(2024, 3, 9)\n",
    "end_date = datetime(2024, 3, 15)\n",
    "\n",
    "analyze = EmotionAnalyzer(user_id)\n",
    "print(\"已保存的日记日期：\", analyze.get_diary_dates())\n",
    "\n",
    "# 指定日期模式\n",
    "result = analyze.analyze(\n",
    "    mode = mode, \n",
    "    start_date=start_date, \n",
    "    end_date=end_date)\n",
    "print(result)\n",
    "\n",
    "# 默认日期模式（过去7天）\n",
    "result = analyze.analyze(\n",
    "    mode = mode, \n",
    ")\n",
    "print(result)"
   ]
  }
 ],
 "metadata": {
  "kernelspec": {
   "display_name": "langchain-env",
   "language": "python",
   "name": "python3"
  },
  "language_info": {
   "codemirror_mode": {
    "name": "ipython",
    "version": 3
   },
   "file_extension": ".py",
   "mimetype": "text/x-python",
   "name": "python",
   "nbconvert_exporter": "python",
   "pygments_lexer": "ipython3",
   "version": "3.10.16"
  }
 },
 "nbformat": 4,
 "nbformat_minor": 2
}
