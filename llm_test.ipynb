{
 "cells": [
  {
   "cell_type": "code",
   "execution_count": 1,
   "metadata": {},
   "outputs": [
    {
     "name": "stderr",
     "output_type": "stream",
     "text": [
      "/Users/coffee/Work/Vs Code/web_for_Inksoul/LLM/llm.py:31: LangChainDeprecationWarning: The class `Chroma` was deprecated in LangChain 0.2.9 and will be removed in 1.0. An updated version of the class exists in the langchain-chroma package and should be used instead. To use it run `pip install -U langchain-chroma` and import as `from langchain_chroma import Chroma`.\n",
      "  return Chroma(\n"
     ]
    },
    {
     "name": "stdout",
     "output_type": "stream",
     "text": [
      "[DEBUG] 正在创建/访问用户目录：/Users/coffee/Work/Vs Code/web_for_Inksoul/data_base/diary_db/U985\n"
     ]
    },
    {
     "name": "stderr",
     "output_type": "stream",
     "text": [
      "2025-03-27 01:04:19,610 - EmotionAnalyzer.U985 - WARNING - [WARNING] 检测到重复日记，跳过保存\n"
     ]
    },
    {
     "name": "stdout",
     "output_type": "stream",
     "text": [
      "{'overall_analysis': '您在日记中呈现出自我反思与挣扎的双重状态。错过课程与收到旧友来信触发了对自身状态的批判性审视，『灵魂堕落』的自我评价与『需要刺激重启生活』的渴望形成强烈张力。这种矛盾心理既包含对现状的否定，又暗含改变动力，符合存在主义危机中的典型心理图景。', 'emotional_basis': {'喜悦': 5, '信任': 15, '害怕': 25, '惊讶': 10, '难过': 40, '厌恶': 30, '生气': 20, '期待': 35}, 'emotion_type': ['存在焦虑（自我否定+期待改变）', '矛盾性枯竭（精神疲惫+行动渴望）', '社交疏离型内疚（思念+拖延）'], 'emotion_label': '低落', 'keywords': ['迟到', '信件', '堕落', '刺激', '重启'], 'immediate_suggestion': {'音乐推荐': '《Wake Up》- Arcade Fire（振奋的旋律与反思性歌词形成共鸣）', '书籍推荐': '《惶然录》佩索阿（关于自我认知与存在困境的碎片化思考）', '活动建议': '今天适合在黄昏时步行至视野开阔处静立十分钟', '心理调节': '尝试『五分钟写作法』：立即写下三个微小到可以马上行动的改变设想'}, 'history_moment': '1925年菲茨杰拉德在巴黎修改《了不起的盖茨比》时同样陷入自我怀疑，他在给编辑的信中写道『我感觉自己像个失败的先知』，却仍在凌晨三点继续推敲黛西的台词'}\n"
     ]
    }
   ],
   "source": [
    "from LLM.llm import EmotionAnalyzer\n",
    "from datetime import datetime\n",
    "\n",
    "\n",
    "user_id = \"U985\"\n",
    "mode = \"daily\"\n",
    "test_diary = '起来晚了，第一堂课没来得及上，空堂时可筠的同学宁家英来了，告诉我有一封信，是武昌来的，果然是可筠的，她说我与一般老朋友真是音信杳然了。然而我的的确确随时都想着她们，只是懒得不想提笔而已。我发现我是真的堕落了，从灵魂堕落起，外表上也许别人以为我活得很有生气，可是实际上我已经不堪了。我需要一点刺激，需要在我的生活来一个大的波浪，这样也许我可能从新干下去。'\n",
    "date = datetime(2025, 3, 15, 14, 30)\n",
    "\n",
    "analyze = EmotionAnalyzer(user_id)\n",
    "result = analyze.analyze(mode, test_diary, date)\n",
    "print(result)"
   ]
  },
  {
   "cell_type": "code",
   "execution_count": 1,
   "metadata": {},
   "outputs": [
    {
     "name": "stdout",
     "output_type": "stream",
     "text": [
      "[DEBUG] 正在创建/访问用户目录：/Users/coffee/Work/Vs Code/web_for_Inksoul/data_base/diary_db/U985\n",
      "已保存的日记日期： ['2024-03-09', '2024-03-10', '2024-03-11', '2024-03-12', '2024-03-13', '2024-03-14', '2024-03-15', '2025-03-09', '2025-03-10', '2025-03-11', '2025-03-12', '2025-03-13', '2025-03-14', '2025-03-15']\n"
     ]
    },
    {
     "name": "stderr",
     "output_type": "stream",
     "text": [
      "Number of requested results 20 is greater than number of elements in index 16, updating n_results = 16\n"
     ]
    },
    {
     "name": "stdout",
     "output_type": "stream",
     "text": [
      "{'diary_review': '你在一周里不断与回忆相遇。整理旧物时铁盒里滑落的未寄信笺、小鹿提及夏末未见的讯息、星空投影仪未拆的丝带、地铁滚落的薄荷糖铁盒、校庆时操场的光斑幻影，这些碎片像雨季里返潮的旧照片，带着褪色的温度重新漫上心头。晾衣绳上的白衬衫在风里反复拍打春联残红，如同某种未完成的节拍器，丈量着时光流逝的韵律。', 'emotional_basis': {'喜悦': 18, '信任': 25, '害怕': 12, '惊讶': 28, '难过': 45, '厌恶': 5, '生气': 8, '期待': 62}, 'domain_event': ['整理旧物触发往事闪回', '收到友人时隔半年的消息', '发现未拆封的生日礼物', '地铁里的薄荷糖铁盒事件', '洗衣房发现贝壳纽扣', '日历提醒游泳选拔日', '雨夜查看特别关注消息'], 'domain_emotion': ['怀旧', '怅然', '遗憾', '恍惚', '追忆', '期待', '孤独'], 'emotion_score': [42, 55, 38, 60, 47, 68, 45], 'emotion_trend': \"情绪呈现波浪式起伏，在整理旧物与发现未完成约定时跌入低谷，当涉及未来计划（游泳选拔）或意外发现（地铁事件）时短暂回升。整体呈现'回忆带来失落-新契机点燃期待'的循环模式。\", 'weekly_advice': ['将铁盒物品进行仪式性整理归档', '主动发起至少两次线下邀约', '拆封并使用一件尘封的礼物', '在雨天重访校园故地', '给英语老师寄出迟到的薄荷糖'], 'event_key_words': ['旧物整理', '未寄信笺', '褪色票根', '特别关注提示', '贝壳纽扣', '游泳选拔提醒', '校庆光斑记忆'], 'emotion_key_words': ['时光错位感', '未竟之事的焦灼', '温柔怅惘', '隐秘期待', '潮湿的孤独'], 'famous_quote': '「记忆不是单行道，每个昨天都在为明天的出口重新铺路。」——奥尔罕·帕慕克《纯真博物馆》'}\n"
     ]
    }
   ],
   "source": [
    "from LLM.llm import EmotionAnalyzer\n",
    "from datetime import datetime\n",
    "\n",
    "user_id = \"U985\"\n",
    "mode = \"weekly\"\n",
    "start_date = datetime(2024, 3, 9)\n",
    "end_date = datetime(2024, 3, 15)\n",
    "\n",
    "analyze = EmotionAnalyzer(user_id)\n",
    "print(\"已保存的日记日期：\", analyze.get_diary_dates())\n",
    "\n",
    "# 指定日期模式\n",
    "result = analyze.analyze(\n",
    "    mode = mode, \n",
    "    start_date=start_date, \n",
    "    end_date=end_date)\n",
    "print(result)\n",
    "\n",
    "# 默认日期模式（过去7天）\n",
    "# result = analyze.analyze(\n",
    "#     mode = mode, \n",
    "# )\n",
    "# print(result)"
   ]
  }
 ],
 "metadata": {
  "kernelspec": {
   "display_name": "langchain-env",
   "language": "python",
   "name": "python3"
  },
  "language_info": {
   "codemirror_mode": {
    "name": "ipython",
    "version": 3
   },
   "file_extension": ".py",
   "mimetype": "text/x-python",
   "name": "python",
   "nbconvert_exporter": "python",
   "pygments_lexer": "ipython3",
   "version": "3.10.16"
  }
 },
 "nbformat": 4,
 "nbformat_minor": 2
}
