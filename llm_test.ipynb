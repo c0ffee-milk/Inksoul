{
 "cells": [
  {
   "cell_type": "code",
   "execution_count": 1,
   "metadata": {},
   "outputs": [
    {
     "name": "stdout",
     "output_type": "stream",
     "text": [
      "[DEBUG] 正在创建/访问用户目录：/Users/coffee/Work/VsCode/web_for_Inksoul/data_base/diary_db/U211\n",
      "{'overall_analysis': '您的日记呈现出流动的时光质感与都市诗意。晨昏交替间，传统与现代、记忆与现实的碰撞在街巷褶皱里发酵。从太极老人的银发到赛博弄堂的代码，从泛黄粮票到智能门锁，这些物象编织成一张温柔而怅惘的网，捕捉着城市变迁中个体生命的微妙震颤。', 'emotional_basis': {'喜悦': 35, '信任': 50, '害怕': 10, '惊讶': 25, '难过': 30, '厌恶': 5, '生气': 5, '期待': 40}, 'emotion_label': ['怀旧性憧憬', '时间性焦虑', '都市乡愁', '文化割裂感'], 'emotion_type': '平和', 'keywords': {'太极白衣': 85, '南瓜饼温度': 75, '过期里程': 65, '赛博弄堂': 60, '防盗门灯火': 70}, 'immediate_suggestion': {'music': {'music_suggestion1': '坂本龙一《异步》- 用电子音色包裹的寂静，适合梳理城市记忆的褶皱', 'music_suggestion2': '上海彩虹合唱团《白马村游记》- 在戏谑与诗意间平衡现代乡愁'}, 'books': '卡尔维诺《看不见的城市》- 马可波罗描述的幻影都市与您笔下的赛博弄堂形成奇妙互文', 'activities': '建议用拍立得记录街角老店门楣，制作属于您的城市记忆标本集', 'techniques': \"尝试'时光抽屉法'：将当日见闻写在便签上投入容器，三个月后重新读取\"}, 'history_moment': '1995年王家卫在布宜诺斯艾利斯拍摄《春光乍泄》时，同样把过期护照放进瀑布声里，让未抵达的旅程在胶片中永恒'}\n"
     ]
    }
   ],
   "source": [
    "from LLM.llm import EmotionAnalyzer\n",
    "from datetime import datetime\n",
    "\n",
    "\n",
    "user_id = \"U211\"\n",
    "mode = \"daily\"\n",
    "test_diary = '晨跑时撞见梧桐树下练太极的老人们，白衣随动作翻飞如鸽群，收势时齐齐朝我点头微笑，仿佛整条街道都在呼吸。拐角早餐铺的油墩子涨价五毛，老板娘硬塞给我两个刚炸的南瓜饼：\"年轻人流汗多，补补糖分。\"午后在旧书店消磨时光，发现1987年版《上海滩》连环画夹着张泛黄的粮票。戴圆框眼镜的店主正给流浪猫读《追忆似水年华》，阳光斜切过书架，灰尘在光柱里跳探戈。突然收到航空公司升舱短信，才想起三年前囤的里程快过期——那些计划着去冰岛看极光的夜晚，原来和罐头一样有保质期。暮色里帮邻居修智能门锁，00后男孩递来的工具箱贴着奥特曼贴纸。他抱怨元宇宙课程作业要建\"赛博弄堂\"，却说不清石库门砖缝里的青苔该怎么用代码渲染。回家时电梯镜面映出四张相似的疲惫面孔，我们默契地数着楼层数字，在\"叮\"的一声里各自溶解进防盗门后的灯火。'\n",
    "date = datetime(2024, 6, 18, 14, 30, 0)\n",
    "\n",
    "analyze = EmotionAnalyzer(user_id)\n",
    "result = analyze.analyze(mode, test_diary, date.timestamp())\n",
    "print(result)"
   ]
  },
  {
   "cell_type": "code",
   "execution_count": 2,
   "metadata": {},
   "outputs": [
    {
     "name": "stdout",
     "output_type": "stream",
     "text": [
      "[DEBUG] 正在创建/访问用户目录：/Users/coffee/Work/VsCode/web_for_Inksoul/data_base/diary_db/U211\n",
      "已保存的日记日期： ['2024-06-15', '2024-06-16', '2024-06-17', '2024-06-18']\n"
     ]
    },
    {
     "name": "stderr",
     "output_type": "stream",
     "text": [
      "Number of requested results 20 is greater than number of elements in index 4, updating n_results = 4\n"
     ]
    },
    {
     "name": "stdout",
     "output_type": "stream",
     "text": [
      "{'diary_review': '您在过去四天里经历了桂花初绽的惊喜与晨光温柔，在预算拉锯战中守护提案成果，透过雨衣孩童看到二十年前的倒影。您用薄荷清香抵抗PPT的枯燥，在旧书店泛黄粮票里触摸时光褶皱，既为三年前的极光里程过期怅然，也在智能门锁的赛博困惑中窥见代际对话。生活像侯麦电影的拼贴画，职场压力、童年闪回、老友重逢、文化寻根交织成带着咖啡渍的诗篇。', 'emotional_basis': {'喜悦': 65, '信任': 45, '害怕': 20, '惊讶': 55, '难过': 30, '厌恶': 10, '生气': 25, '期待': 60}, 'domain_event': {'day1': {'event': '提案通过后楼梯间啃三明治庆祝', 'emotion': '成就喜悦'}, 'day2': {'event': '看到踩水坑女孩触发童年记忆', 'emotion': '怀旧怅惘'}, 'day3': {'event': '与哺乳期发小跨维度对话', 'emotion': '时空错位感'}, 'day4': {'event': '发现过期里程与赛博弄堂困境', 'emotion': '未来焦虑'}}, 'emotion_trend': '情绪曲线呈螺旋上升态势，从工作成就感的峰值出发，经历怀旧柔化处理，在跨时空对话中达到情感平衡，最终落于对时间流逝的哲学性接纳。焦虑与期待如同DNA双链缠绕共生。', 'weekly_advice': '建议：1.每天用手机拍摄1个「非功利美好瞬间」2.探索社区图书馆夜读区并记录3种书页翻动声 3.给大学室友发送敦煌星空的观后感语音 4.用过期里程兑换短途周边游 5.在吉他弦上涂抹松节油恢复弹性', 'event_key_words': {'嗅觉记忆触发': 85, '跨代际对话': 70, '时间胶囊物品': 90, '城市漫游发现': 75, '未完成旅行计划': 65}, 'emotion_key_words': {'温柔反叛': 80, '悬浮期待': 75, '存在主义孤独': 60, '文化乡愁': 70, '技术时代怀旧': 85}, 'famous_quote': '「真正的发现之旅不在于寻找新景观，而在于拥有新眼光。」——普鲁斯特《追忆似水年华》'}\n"
     ]
    }
   ],
   "source": [
    "from LLM.llm import EmotionAnalyzer\n",
    "from datetime import datetime\n",
    "\n",
    "user_id = \"U211\"\n",
    "mode = \"weekly\"\n",
    "start_date = datetime(2024, 6, 1)\n",
    "end_date = datetime(2024, 7, 30)\n",
    "\n",
    "analyze = EmotionAnalyzer(user_id)\n",
    "print(\"已保存的日记日期：\", analyze.get_diary_dates())\n",
    "\n",
    "# 指定日期模式\n",
    "result = analyze.analyze(\n",
    "    mode = mode, \n",
    "    start_date=start_date, \n",
    "    end_date=end_date)\n",
    "print(result)\n",
    "\n",
    "# 默认日期模式（过去7天）\n",
    "# result = analyze.analyze(\n",
    "#     mode = mode, \n",
    "# )\n",
    "# print(result)"
   ]
  },
  {
   "cell_type": "code",
   "execution_count": null,
   "metadata": {},
   "outputs": [],
   "source": [
    "from LLM.llm import EmotionAnalyzer\n",
    "from datetime import datetime\n",
    "\n",
    "user_id = \"U211\"\n",
    "mode = \"daily\"\n",
    "test_diary = \"test\"\n",
    "date = datetime(2024, 6, 15, 14, 30, 0)\n",
    "\n",
    "analyze = EmotionAnalyzer(user_id)\n",
    "result = analyze.analyze(mode, test_diary, date.timestamp())\n",
    "print(result)\n",
    "print(\"已保存的日记日期：\", analyze.get_diary_dates())"
   ]
  },
  {
   "cell_type": "code",
   "execution_count": null,
   "metadata": {},
   "outputs": [],
   "source": [
    "from LLM.llm import EmotionAnalyzer\n",
    "from datetime import datetime\n",
    "\n",
    "user_id = \"U211\"\n",
    "date = datetime(2024, 6, 17, 14, 30, 0)\n",
    "\n",
    "analyze = EmotionAnalyzer(user_id)  # 创建新实例\n",
    "print(\"已保存的日记日期：\", analyze.get_diary_dates())\n",
    "delete_result = analyze.delete_diary(date)\n",
    "print(delete_result)\n",
    "print(\"已保存的日记日期：\", analyze.get_diary_dates())"
   ]
  }
 ],
 "metadata": {
  "kernelspec": {
   "display_name": "langchain-env",
   "language": "python",
   "name": "python3"
  },
  "language_info": {
   "codemirror_mode": {
    "name": "ipython",
    "version": 3
   },
   "file_extension": ".py",
   "mimetype": "text/x-python",
   "name": "python",
   "nbconvert_exporter": "python",
   "pygments_lexer": "ipython3",
   "version": "3.10.16"
  }
 },
 "nbformat": 4,
 "nbformat_minor": 2
}
