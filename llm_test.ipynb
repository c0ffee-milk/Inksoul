{
 "cells": [
  {
   "cell_type": "code",
   "execution_count": 1,
   "metadata": {},
   "outputs": [
    {
     "name": "stdout",
     "output_type": "stream",
     "text": [
      "[DEBUG] 正在创建/访问用户目录：/Users/coffee/Work/VsCode/web_for_Inksoul/data_base/diary_db/U211\n",
      "{'overall_analysis': '您的日记呈现出城市生活的诗意褶皱：晨光里的太极韵律与陌生人善意构成温暖底色，旧书店的时光沉淀与赛博弄堂的虚实碰撞形成张力。对过期里程的怅惘、防盗门后的疏离感，则如暗流在生活肌理下游动，最终在电梯镜面的四张疲惫面孔里达成微妙共鸣。', 'emotional_basis': {'喜悦': 65, '信任': 70, '害怕': 15, '惊讶': 40, '难过': 30, '厌恶': 5, '生气': 10, '期待': 25}, 'emotion_label': ['nostalgia（怀旧）', 'serenity（宁静）', 'melancholy（忧郁）', 'ambivalence（矛盾）'], 'emotion_type': '平和', 'keywords': {'白衣太极': 90, '泛黄粮票': 85, '过期里程': 75, '赛博弄堂': 70, '防盗灯火': 65}, 'immediate_suggestion': {'music': {'music_suggestion1': '久石让《菊次郎的夏天》- 钢琴旋律能熨平生活褶皱', 'music_suggestion2': '坂本龙一《async》- 电子音效与自然声的对话恰如虚实碰撞'}, 'books': '汪曾祺《人间草木》- 在烟火气中打捞永恒的诗意', 'activities': '今晚可在小区长椅观察窗格灯火，玩味普鲁斯特式的瞬间永恒', 'techniques': '正念呼吸时想象自己如太极收势，将都市喧嚣化作可控的气流'}, 'history_moment': '1927年普鲁斯特在软木贴面的房间里，同样从玛德莱娜蛋糕的气味打捞出整片贡布雷的夏天；1998年侯孝贤在《海上花》长镜头里，也这般将煤气灯下的上海租界凝成琥珀'}\n"
     ]
    }
   ],
   "source": [
    "from LLM.llm import EmotionAnalyzer\n",
    "from datetime import datetime\n",
    "\n",
    "\n",
    "user_id = \"U211\"\n",
    "mode = \"daily\"\n",
    "test_diary = '晨跑时撞见梧桐树下练太极的老人们，白衣随动作翻飞如鸽群，收势时齐齐朝我点头微笑，仿佛整条街道都在呼吸。拐角早餐铺的油墩子涨价五毛，老板娘硬塞给我两个刚炸的南瓜饼：\"年轻人流汗多，补补糖分。\"午后在旧书店消磨时光，发现1987年版《上海滩》连环画夹着张泛黄的粮票。戴圆框眼镜的店主正给流浪猫读《追忆似水年华》，阳光斜切过书架，灰尘在光柱里跳探戈。突然收到航空公司升舱短信，才想起三年前囤的里程快过期——那些计划着去冰岛看极光的夜晚，原来和罐头一样有保质期。暮色里帮邻居修智能门锁，00后男孩递来的工具箱贴着奥特曼贴纸。他抱怨元宇宙课程作业要建\"赛博弄堂\"，却说不清石库门砖缝里的青苔该怎么用代码渲染。回家时电梯镜面映出四张相似的疲惫面孔，我们默契地数着楼层数字，在\"叮\"的一声里各自溶解进防盗门后的灯火。'\n",
    "date = datetime(2024, 6, 18, 14, 30, 0)\n",
    "\n",
    "analyze = EmotionAnalyzer(user_id)\n",
    "result = analyze.analyze(mode, test_diary, date.timestamp())\n",
    "print(result)"
   ]
  },
  {
   "cell_type": "code",
   "execution_count": 2,
   "metadata": {},
   "outputs": [
    {
     "name": "stdout",
     "output_type": "stream",
     "text": [
      "[DEBUG] 正在创建/访问用户目录：/Users/coffee/Work/VsCode/web_for_Inksoul/data_base/diary_db/U211\n",
      "已保存的日记日期： ['2024-06-15', '2024-06-16', '2024-06-17', '2024-06-18']\n"
     ]
    },
    {
     "name": "stderr",
     "output_type": "stream",
     "text": [
      "Number of requested results 20 is greater than number of elements in index 4, updating n_results = 4\n"
     ]
    },
    {
     "name": "stdout",
     "output_type": "stream",
     "text": [
      "{'diary_review': '过去这段时间，您的生活如同被秋雨浸润的调色盘。清晨的桂花香与咖啡意外洒落的奶泡，让工作日有了诗意的开场；财务部的拉锯战与提案通过的喜悦，在楼梯间三明治的咀嚼声里达成微妙平衡。您用薄荷叶的凉意对抗PPT的枯燥，透过雨幕中踩水坑的黄雨衣，望见了二十年前的自己。江西拌粉的辣味成为团队暗号，敦煌星空与锈迹吉他弦共振着成年人的怅惘。飘窗晨光、夜读区的书页声、旧书店的粮票与奥特曼工具箱，都在提醒您：生活正以温柔又荒诞的方式持续流动。', 'emotional_basis': {'喜悦': 65, '信任': 40, '害怕': 15, '惊讶': 30, '难过': 25, '厌恶': 10, '生气': 5, '期待': 55}, 'domain_event': {'day1': {'event': '提案通过后在楼梯间啃三明治庆祝', 'emotion': '喜悦'}, 'day2': {'event': '看到穿黄雨衣小女孩想起童年自己', 'emotion': '怀旧'}, 'day3': {'event': '发现社区图书馆夜读区的温暖场景', 'emotion': '宁静'}, 'day4': {'event': '旧书店发现粮票与元宇宙作业碰撞', 'emotion': '荒诞感'}}, 'emotion_trend': '情绪呈现螺旋上升态势：工作压力带来的紧绷感逐渐被生活细节中的诗意消解，对过去的怀念与对未来的期待形成双向张力，最终在具体而微的日常体验中找到情绪锚点。', 'weekly_advice': '建议下周每天花15分钟整理手机相册，将偶然拍下的桂花/雨伞/旧书等照片制成电子拼贴画；周末用薄荷叶泡茶搭配《致爱丽丝》播放清单，在香气与琴声里重读《百年孤独》首章；联系那位敦煌室友约定虚拟星空观影会。', 'event_key_words': {'桂花觉醒': 85, '提案拉锯战': 70, '雨幕童年': 65, '辣味团建': 60, '夜读光影': 75, '锈弦回忆': 55, '时空折叠对话': 50, '过期里程': 45, '赛博弄堂': 40, '灰尘探戈': 60}, 'emotion_key_words': {'微醺式喜悦': 80, '悬浮怀旧': 70, '温和疏离': 55, '创造性孤独': 65, '荒诞共鸣': 60, '延迟满足': 50, '时空眩晕': 45, '气味疗愈': 75, '间歇性期待': 70, '成年乡愁': 60}, 'famous_quote': '「谁要是学会了正确对待孤独，谁就算不上真正孤独。」——卡尔·荣格《寻找灵魂的现代人》'}\n"
     ]
    }
   ],
   "source": [
    "from LLM.llm import EmotionAnalyzer\n",
    "from datetime import datetime\n",
    "\n",
    "user_id = \"U211\"\n",
    "mode = \"weekly\"\n",
    "start_date = datetime(2024, 6, 15)\n",
    "end_date = datetime(2024, 6, 30)\n",
    "\n",
    "analyze = EmotionAnalyzer(user_id)\n",
    "print(\"已保存的日记日期：\", analyze.get_diary_dates())\n",
    "\n",
    "# 指定日期模式\n",
    "result = analyze.analyze(\n",
    "    mode = mode, \n",
    "    start_date=start_date, \n",
    "    end_date=end_date)\n",
    "print(result)\n",
    "\n",
    "# 默认日期模式（过去7天）\n",
    "# result = analyze.analyze(\n",
    "#     mode = mode, \n",
    "# )\n",
    "# print(result)"
   ]
  },
  {
   "cell_type": "code",
   "execution_count": null,
   "metadata": {},
   "outputs": [],
   "source": [
    "from LLM.llm import EmotionAnalyzer\n",
    "from datetime import datetime\n",
    "\n",
    "user_id = \"U211\"\n",
    "mode = \"daily\"\n",
    "test_diary = \"test\"\n",
    "date = datetime(2024, 6, 15, 14, 30, 0)\n",
    "\n",
    "analyze = EmotionAnalyzer(user_id)\n",
    "result = analyze.analyze(mode, test_diary, date.timestamp())\n",
    "print(result)\n",
    "print(\"已保存的日记日期：\", analyze.get_diary_dates())"
   ]
  },
  {
   "cell_type": "code",
   "execution_count": 3,
   "metadata": {},
   "outputs": [
    {
     "name": "stderr",
     "output_type": "stream",
     "text": [
      "2025-04-08 14:17:38,020 - EmotionAnalyzer.U211 - INFO - [SUCCESS] 已删除 2024-06-17 14:30:00 的日记 (ID: ['58e5f3ca-812d-4a69-9a90-0f031e355042'])\n"
     ]
    },
    {
     "name": "stdout",
     "output_type": "stream",
     "text": [
      "[DEBUG] 正在创建/访问用户目录：/Users/coffee/Work/VsCode/web_for_Inksoul/data_base/diary_db/U211\n",
      "已保存的日记日期： ['2024-06-17']\n",
      "{'status': 'success', 'message': '日记删除成功', 'deleted_time': '2024-06-17T14:30:00', 'deleted_ids': ['58e5f3ca-812d-4a69-9a90-0f031e355042']}\n",
      "已保存的日记日期： []\n"
     ]
    }
   ],
   "source": [
    "from LLM.llm import EmotionAnalyzer\n",
    "from datetime import datetime\n",
    "\n",
    "user_id = \"U211\"\n",
    "date = datetime(2024, 6, 17, 14, 30, 0)\n",
    "\n",
    "analyze = EmotionAnalyzer(user_id)  # 创建新实例\n",
    "print(\"已保存的日记日期：\", analyze.get_diary_dates())\n",
    "delete_result = analyze.delete_diary(date)\n",
    "print(delete_result)\n",
    "print(\"已保存的日记日期：\", analyze.get_diary_dates())"
   ]
  }
 ],
 "metadata": {
  "kernelspec": {
   "display_name": "langchain-env",
   "language": "python",
   "name": "python3"
  },
  "language_info": {
   "codemirror_mode": {
    "name": "ipython",
    "version": 3
   },
   "file_extension": ".py",
   "mimetype": "text/x-python",
   "name": "python",
   "nbconvert_exporter": "python",
   "pygments_lexer": "ipython3",
   "version": "3.10.16"
  }
 },
 "nbformat": 4,
 "nbformat_minor": 2
}
