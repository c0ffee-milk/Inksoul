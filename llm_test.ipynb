{
 "cells": [
  {
   "cell_type": "code",
   "execution_count": 1,
   "metadata": {},
   "outputs": [
    {
     "name": "stdout",
     "output_type": "stream",
     "text": [
      "[DEBUG] 正在创建/访问用户目录：/Users/coffee/Work/Vs Code/web_for_Inksoul/data_base/diary_db/U886\n"
     ]
    },
    {
     "name": "stderr",
     "output_type": "stream",
     "text": [
      "Number of requested results 20 is greater than number of elements in index 7, updating n_results = 7\n",
      "/Users/coffee/Work/Vs Code/web_for_Inksoul/LLM/llm.py:202: LangChainDeprecationWarning: Since Chroma 0.4.x the manual persistence method is no longer supported as docs are automatically persisted.\n",
      "  self.diary_db.persist()  # 确保立即持久化\n",
      "2025-03-14 11:43:25,877 - EmotionAnalyzer.U886 - INFO - [SUCCESS] 日记已保存: 在一个雨后的清晨，我迎着凉爽的风，在山间...\n",
      "Number of requested results 20 is greater than number of elements in index 2, updating n_results = 2\n"
     ]
    },
    {
     "name": "stdout",
     "output_type": "stream",
     "text": [
      "{'emotional_basis': {'喜悦': 70, '信任': 60, '害怕': 10, '惊讶': 30, '难过': 20, '厌恶': 5, '生气': 5, '期待': 40}, 'emotion_type': ['宁静的喜悦', '对自然的信任与敬畏', '对生命循环的深刻感悟'], 'keywords': ['宁静', '生命循环', '自然之美'], 'immediate_suggestion': ['继续保持与自然的连接，这种宁静的喜悦有助于缓解日常压力。', '尝试将这种对生命循环的深刻感悟应用到日常生活中，帮助自己更好地接受变化和挑战。', '定期进行类似的户外活动，以增强对自然的信任感和敬畏之心，这有助于提升整体的心理健康。']}\n"
     ]
    }
   ],
   "source": [
    "from LLM.llm import EmotionAnalyzer\n",
    "\n",
    "user_id = \"U886\"\n",
    "mode = \"daily\"\n",
    "test_diary = \"在一个雨后的清晨，我迎着凉爽的风，在山间公路上漫无目的地走，欣赏着枫叶们最后时刻的狂欢。天还没有完全亮起来，只有东方露出了一抹鱼肚白。雨后清新的空气，混着新鲜泥土味涌入我的鼻腔，令我倍感神清气爽。眼前的画面，就像技艺高超的画家画出的油画一般；公路直直的，仿佛没有尽头，两边是火一样的枫叶，给人一种富有层次的美感。一抬头，便看见满目金黄，层层叠叠的枫叶遮住那微弱的阳光，但仍然有些许阳光突破重重阻碍，洒落在地上，这好像是光影和枫叶之间的较量。不时有阵阵秋风吹过，好像在为他们呐喊助威。我收回目光，低头一看，稀稀疏疏的枫叶躺在黑色的柏油路上，为柏油路增添了新的光彩。我抬起头，环顾了一下四周，周围几乎都是枫树的领地，一片片红色、黄色，顿时占据了我整个眼眸，在纷乱交错的红色和黄色之间，点缀着绿色，粗看，十分杂乱无章，细看才发现，实则十分协调，似乎是艺术家点染上的色彩吧。我蹲下身，捡起一片枫叶细细打量，枫叶的大小如同三四岁的小孩儿的手掌一般，边缘呈锯齿状。我凝神细细看去，还能看到上面细细的脉络，好似祖国各地的江流湖泊。叶的飘落，并非生命的结束，而是下一阶段生命的开端，它心甘情愿被埋进土壤，化作养分，为那留不住的绿意默默地支撑着……我不禁默默吟诵出那千古名句：“落红不是无情物，化作春泥更护花……”\"\n",
    "\n",
    "analyze = EmotionAnalyzer(user_id)\n",
    "result = analyze.analyze(mode, test_diary)\n",
    "print(result)"
   ]
  }
 ],
 "metadata": {
  "kernelspec": {
   "display_name": "langchain-env",
   "language": "python",
   "name": "python3"
  },
  "language_info": {
   "codemirror_mode": {
    "name": "ipython",
    "version": 3
   },
   "file_extension": ".py",
   "mimetype": "text/x-python",
   "name": "python",
   "nbconvert_exporter": "python",
   "pygments_lexer": "ipython3",
   "version": "3.10.16"
  }
 },
 "nbformat": 4,
 "nbformat_minor": 2
}
