{
 "cells": [
  {
   "cell_type": "code",
   "execution_count": null,
   "metadata": {},
   "outputs": [],
   "source": [
    "from LLM.llm import EmotionAnalyzer\n",
    "from datetime import datetime\n",
    "\n",
    "\n",
    "user_id = \"U985\"\n",
    "mode = \"daily\"\n",
    "test_diary = '起来晚了，第一堂课没来得及上，空堂时可筠的同学宁家英来了，告诉我有一封信，是武昌来的，果然是可筠的，她说我与一般老朋友真是音信杳然了。然而我的的确确随时都想着她们，只是懒得不想提笔而已。我发现我是真的堕落了，从灵魂堕落起，外表上也许别人以为我活得很有生气，可是实际上我已经不堪了。我需要一点刺激，需要在我的生活来一个大的波浪，这样也许我可能从新干下去。'\n",
    "date = datetime(2025, 3, 15, 14, 30, 0)\n",
    "\n",
    "analyze = EmotionAnalyzer(user_id)\n",
    "result = analyze.analyze(mode, test_diary, date)\n",
    "print(result)"
   ]
  },
  {
   "cell_type": "code",
   "execution_count": 5,
   "metadata": {},
   "outputs": [
    {
     "name": "stdout",
     "output_type": "stream",
     "text": [
      "[DEBUG] 正在创建/访问用户目录：/Users/coffee/Work/VsCode/web_for_Inksoul/data_base/diary_db/U211\n",
      "已保存的日记日期： ['2024-06-15']\n"
     ]
    },
    {
     "name": "stderr",
     "output_type": "stream",
     "text": [
      "Number of requested results 20 is greater than number of elements in index 1, updating n_results = 1\n"
     ]
    },
    {
     "name": "stdout",
     "output_type": "stream",
     "text": [
      "{'diary_review': '你过去一周的日记记录较为简略，内容以测试为主。虽然缺乏具体事件细节，但能感受到你在尝试记录与观察生活的基本状态。这段时间可能处于探索日记习惯的初期阶段，或是测试某种记录方式的可行性。', 'emotional_basis': {'喜悦': 10, '信任': 15, '害怕': 5, '惊讶': 20, '难过': 5, '厌恶': 5, '生气': 5, '期待': 35}, 'domain_event': [{'day': 1, 'domain_event': '测试日记功能', 'domain_emotion': '惊讶'}, {'day': 2, 'domain_event': '系统调试行为', 'domain_emotion': '期待'}, {'day': 3, 'domain_event': '记录空白测试', 'domain_emotion': '信任'}, {'day': 4, 'domain_event': '功能验证过程', 'domain_emotion': '期待'}, {'day': 5, 'domain_event': '基础内容输入', 'domain_emotion': '中性'}, {'day': 6, 'domain_event': '模式探索尝试', 'domain_emotion': '好奇'}, {'day': 7, 'domain_event': '记录框架建立', 'domain_emotion': '信任'}], 'emotion_trend': '情绪曲线呈现探索性特征，初期以功能测试带来的惊讶为主，中期转向对系统可靠性的信任构建，后期逐渐形成持续性的期待感。整体呈现从不确定到目标导向的积极转化。', 'weekly_advice': ['建议逐步增加具体事件记录，建立情绪与事件的映射关系', '可尝试固定记录时段以形成习惯节律', '在测试过程中注意捕捉瞬时情绪波动', '设置简单的情绪标记系统辅助回顾分析'], 'event_key_words': ['系统测试', '功能验证', '空白记录', '框架搭建', '模式探索'], 'emotion_key_words': ['探索欲', '功能性专注', '初期不确定性', '流程信任', '目标期待'], 'famous_quote': '「开始是所有事情中最困难的部分，但也是最重要的。」—— J.R.R.托尔金（适用于记录习惯建立初期阶段）'}\n"
     ]
    }
   ],
   "source": [
    "from LLM.llm import EmotionAnalyzer\n",
    "from datetime import datetime\n",
    "\n",
    "user_id = \"U211\"\n",
    "mode = \"weekly\"\n",
    "start_date = datetime(2024, 6, 15)\n",
    "end_date = datetime(2024, 6, 17)\n",
    "\n",
    "analyze = EmotionAnalyzer(user_id)\n",
    "print(\"已保存的日记日期：\", analyze.get_diary_dates())\n",
    "\n",
    "# 指定日期模式\n",
    "result = analyze.analyze(\n",
    "    mode = mode, \n",
    "    start_date=start_date, \n",
    "    end_date=end_date)\n",
    "print(result)\n",
    "\n",
    "# 默认日期模式（过去7天）\n",
    "# result = analyze.analyze(\n",
    "#     mode = mode, \n",
    "# )\n",
    "# print(result)"
   ]
  },
  {
   "cell_type": "code",
   "execution_count": 6,
   "metadata": {},
   "outputs": [
    {
     "name": "stdout",
     "output_type": "stream",
     "text": [
      "[DEBUG] 正在创建/访问用户目录：/Users/coffee/Work/VsCode/web_for_Inksoul/data_base/diary_db/U211\n"
     ]
    },
    {
     "name": "stderr",
     "output_type": "stream",
     "text": [
      "2025-04-01 14:21:48,861 - EmotionAnalyzer.U211 - WARNING - [WARNING] 检测到重复日记（时间戳：1718433000），跳过保存\n"
     ]
    },
    {
     "name": "stdout",
     "output_type": "stream",
     "text": [
      "{'overall_analysis': '检测到您的日记内容为测试文本，暂未呈现具体情绪线索。建议您通过描述具体事件或感受获得更精准的心理分析', 'emotional_basis': {'喜悦': 0, '信任': 0, '害怕': 0, '惊讶': 0, '难过': 0, '厌恶': 0, '生气': 0, '期待': 0}, 'emotion_label': [], 'emotion_type': '平和', 'keywords': ['测试', '测试', '测试'], 'immediate_suggestion': {'音乐推荐': ['坂本龙一的《Energy Flow》- 实验性旋律适合思维整理'], '活动建议': ['尝试用三句话记录窗前观察到的动态事物'], '心理调节': ['4-7-8呼吸法：吸气4秒→屏息7秒→吐气8秒']}, 'history_moment': '1887年特斯拉在实验室反复测试交流电系统时，也曾用『test』作为实验日志的临时标记，这种对未知领域的探索精神最终照亮了人类文明'}\n",
      "已保存的日记日期： ['2024-06-15']\n"
     ]
    }
   ],
   "source": [
    "from LLM.llm import EmotionAnalyzer\n",
    "from datetime import datetime\n",
    "\n",
    "user_id = \"U211\"\n",
    "mode = \"daily\"\n",
    "test_diary = \"test\"\n",
    "date = datetime(2024, 6, 15, 14, 30, 0)\n",
    "\n",
    "analyze = EmotionAnalyzer(user_id)\n",
    "result = analyze.analyze(mode, test_diary, date.timestamp())\n",
    "print(result)\n",
    "print(\"已保存的日记日期：\", analyze.get_diary_dates())"
   ]
  },
  {
   "cell_type": "code",
   "execution_count": 2,
   "metadata": {},
   "outputs": [
    {
     "name": "stderr",
     "output_type": "stream",
     "text": [
      "2025-04-01 14:15:20,867 - EmotionAnalyzer.U211 - INFO - [SUCCESS] 已删除 2024-06-15 14:30:00 的日记 (ID: ['e092e201-e2ea-45de-a34e-fef13965bdc2'])\n"
     ]
    },
    {
     "name": "stdout",
     "output_type": "stream",
     "text": [
      "[DEBUG] 正在创建/访问用户目录：/Users/coffee/Work/VsCode/web_for_Inksoul/data_base/diary_db/U211\n",
      "已保存的日记日期： ['2024-06-15']\n",
      "{'status': 'success', 'message': '日记删除成功', 'deleted_time': '2024-06-15T14:30:00', 'deleted_ids': ['e092e201-e2ea-45de-a34e-fef13965bdc2']}\n",
      "已保存的日记日期： []\n"
     ]
    }
   ],
   "source": [
    "from LLM.llm import EmotionAnalyzer\n",
    "from datetime import datetime\n",
    "\n",
    "user_id = \"U211\"\n",
    "date = datetime(2024, 6, 15, 14, 30, 0)\n",
    "\n",
    "analyze = EmotionAnalyzer(user_id)  # 创建新实例\n",
    "print(\"已保存的日记日期：\", analyze.get_diary_dates())\n",
    "delete_result = analyze.delete_diary(date)\n",
    "print(delete_result)\n",
    "print(\"已保存的日记日期：\", analyze.get_diary_dates())"
   ]
  }
 ],
 "metadata": {
  "kernelspec": {
   "display_name": "langchain-env",
   "language": "python",
   "name": "python3"
  },
  "language_info": {
   "codemirror_mode": {
    "name": "ipython",
    "version": 3
   },
   "file_extension": ".py",
   "mimetype": "text/x-python",
   "name": "python",
   "nbconvert_exporter": "python",
   "pygments_lexer": "ipython3",
   "version": "3.10.16"
  }
 },
 "nbformat": 4,
 "nbformat_minor": 2
}
