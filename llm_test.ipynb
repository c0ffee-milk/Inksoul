{
 "cells": [
  {
   "cell_type": "code",
   "execution_count": 2,
   "metadata": {},
   "outputs": [
    {
     "name": "stdout",
     "output_type": "stream",
     "text": [
      "[DEBUG] 正在创建/访问用户目录：/Users/coffee/Work/VsCode/web_for_Inksoul/data_base/diary_db/U985\n"
     ]
    },
    {
     "name": "stderr",
     "output_type": "stream",
     "text": [
      "2025-04-02 21:58:17,278 - EmotionAnalyzer.U985 - WARNING - [WARNING] 检测到重复日记（时间戳：1742020200），跳过保存\n"
     ]
    },
    {
     "name": "stdout",
     "output_type": "stream",
     "text": [
      "{'overall_analysis': '您在日记中展现了强烈的自我反思与矛盾感。错过课程和收到友人信件触发了对人际关系的愧疚感，而‘灵魂堕落’‘需要刺激’等表述揭示了深层的内在消耗。您渴望通过外部冲击打破现状，这种‘自我否定’与‘期待救赎’的矛盾感，符合存在主义心理学中关于意义重构的典型状态。', 'emotional_basis': {'喜悦': 5, '信任': 30, '害怕': 45, '惊讶': 25, '难过': 70, '厌恶': 60, '生气': 40, '期待': 55}, 'emotion_label': ['存在性焦虑（害怕+期待）', '自我疏离（厌恶+难过）', '矛盾性期待（期待+生气）'], 'emotion_type': '低落', 'keywords': {'keyword1': '迟到', 'keyword2': '来信', 'keyword3': '堕落', 'keyword4': '刺激', 'keyword5': '重新开始'}, 'immediate_suggestion': {'music': '坂本龙一《Energy Flow》- 用钢琴音色溶解焦虑, 野田洋次郎《白日》- 在迷茫中寻找光亮的叙事', 'books': '《当尼采哭泣》- 心理医生与哲学家的精神博弈中照见自我救赎', 'activities': '在黄昏时沿着河岸线行走，观察光线在水面的破碎与重组', 'techniques': '正念书写：用不同颜色的笔将负面感受与积极愿望分别具象化'}, 'history_moment': '1911年卡夫卡在布拉格阁楼写下《变形记》时，同样在保险员身份与作家理想间撕裂，他用甲虫的意象完成了对自我的精神审判'}\n"
     ]
    }
   ],
   "source": [
    "from LLM.llm import EmotionAnalyzer\n",
    "from datetime import datetime\n",
    "\n",
    "\n",
    "user_id = \"U985\"\n",
    "mode = \"daily\"\n",
    "test_diary = '起来晚了，第一堂课没来得及上，空堂时可筠的同学宁家英来了，告诉我有一封信，是武昌来的，果然是可筠的，她说我与一般老朋友真是音信杳然了。然而我的的确确随时都想着她们，只是懒得不想提笔而已。我发现我是真的堕落了，从灵魂堕落起，外表上也许别人以为我活得很有生气，可是实际上我已经不堪了。我需要一点刺激，需要在我的生活来一个大的波浪，这样也许我可能从新干下去。'\n",
    "date = datetime(2025, 3, 15, 14, 30, 0)\n",
    "\n",
    "analyze = EmotionAnalyzer(user_id)\n",
    "result = analyze.analyze(mode, test_diary, date.timestamp())\n",
    "print(result)"
   ]
  },
  {
   "cell_type": "code",
   "execution_count": null,
   "metadata": {},
   "outputs": [],
   "source": [
    "from LLM.llm import EmotionAnalyzer\n",
    "from datetime import datetime\n",
    "\n",
    "user_id = \"U211\"\n",
    "mode = \"weekly\"\n",
    "start_date = datetime(2024, 6, 15)\n",
    "end_date = datetime(2024, 6, 17)\n",
    "\n",
    "analyze = EmotionAnalyzer(user_id)\n",
    "print(\"已保存的日记日期：\", analyze.get_diary_dates())\n",
    "\n",
    "# 指定日期模式\n",
    "result = analyze.analyze(\n",
    "    mode = mode, \n",
    "    start_date=start_date, \n",
    "    end_date=end_date)\n",
    "print(result)\n",
    "\n",
    "# 默认日期模式（过去7天）\n",
    "# result = analyze.analyze(\n",
    "#     mode = mode, \n",
    "# )\n",
    "# print(result)"
   ]
  },
  {
   "cell_type": "code",
   "execution_count": null,
   "metadata": {},
   "outputs": [],
   "source": [
    "from LLM.llm import EmotionAnalyzer\n",
    "from datetime import datetime\n",
    "\n",
    "user_id = \"U211\"\n",
    "mode = \"daily\"\n",
    "test_diary = \"test\"\n",
    "date = datetime(2024, 6, 15, 14, 30, 0)\n",
    "\n",
    "analyze = EmotionAnalyzer(user_id)\n",
    "result = analyze.analyze(mode, test_diary, date.timestamp())\n",
    "print(result)\n",
    "print(\"已保存的日记日期：\", analyze.get_diary_dates())"
   ]
  },
  {
   "cell_type": "code",
   "execution_count": null,
   "metadata": {},
   "outputs": [],
   "source": [
    "from LLM.llm import EmotionAnalyzer\n",
    "from datetime import datetime\n",
    "\n",
    "user_id = \"U211\"\n",
    "date = datetime(2024, 6, 15, 14, 30, 0)\n",
    "\n",
    "analyze = EmotionAnalyzer(user_id)  # 创建新实例\n",
    "print(\"已保存的日记日期：\", analyze.get_diary_dates())\n",
    "delete_result = analyze.delete_diary(date)\n",
    "print(delete_result)\n",
    "print(\"已保存的日记日期：\", analyze.get_diary_dates())"
   ]
  }
 ],
 "metadata": {
  "kernelspec": {
   "display_name": "langchain-env",
   "language": "python",
   "name": "python3"
  },
  "language_info": {
   "codemirror_mode": {
    "name": "ipython",
    "version": 3
   },
   "file_extension": ".py",
   "mimetype": "text/x-python",
   "name": "python",
   "nbconvert_exporter": "python",
   "pygments_lexer": "ipython3",
   "version": "3.10.16"
  }
 },
 "nbformat": 4,
 "nbformat_minor": 2
}
