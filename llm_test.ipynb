{
 "cells": [
  {
   "cell_type": "code",
   "execution_count": 1,
   "metadata": {},
   "outputs": [
    {
     "name": "stdout",
     "output_type": "stream",
     "text": [
      "[DEBUG] 正在创建/访问用户目录：/Users/coffee/Work/Vs Code/web_for_Inksoul/data_base/diary_db/U985\n"
     ]
    },
    {
     "name": "stderr",
     "output_type": "stream",
     "text": [
      "2025-03-21 23:15:36,897 - EmotionAnalyzer.U985 - WARNING - [WARNING] 检测到重复日记，跳过保存\n"
     ]
    },
    {
     "name": "stdout",
     "output_type": "stream",
     "text": [
      "{'overall_analysis': \"您在日记中呈现出自我反思与矛盾感。未及时回信的愧疚与渴望改变的期待交织，表层活力与深层无力的对比，构成了'清醒的沉沦者'心理画像。武昌来信触发了您对人际关系的重新审视，'需要大波浪'的呐喊揭示了潜意识里对突破现状的渴求。\", 'emotional_basis': {'喜悦': 5, '信任': 15, '害怕': 30, '惊讶': 10, '难过': 45, '厌恶': 25, '生气': 20, '期待': 60}, 'emotion_type': ['矛盾性期待（期待60% + 害怕30% + 厌恶25%）', '认知失调型抑郁（难过45% + 生气20% + 信任15%）', '存在主义焦虑（期待60% + 害怕30% + 惊讶10%）'], 'keywords': ['武昌来信', '灵魂堕落', '生活刺激', '重新振作', '社交倦怠'], 'immediate_suggestion': {'音乐推荐': ['坂本龙一《Energy Flow》- 解构矛盾的能量流动', 'Max Richter《On the Nature of Daylight》- 黎明前的黑暗叙事'], '书籍推荐': '保罗·柯艾略《维罗妮卡决定去死》- 探讨存在危机与重生契机', '活动建议': '今晚尝试给可筠写未寄出的信（不必发送），用实体信纸感受笔尖压力', '心理调节': \"实施'五分钟法则'：每天仅写五行日记，持续观察情绪变迁\"}, 'history_moment': \"1932年沈从文在青岛任教时，同样陷入创作瓶颈与自我怀疑，他在致张兆和的信里写道'我好像随时要沉没了'，却在海边散步时构思出《边城》的雏形。\"}\n"
     ]
    }
   ],
   "source": [
    "from LLM.llm import EmotionAnalyzer\n",
    "from datetime import datetime\n",
    "\n",
    "\n",
    "user_id = \"U985\"\n",
    "mode = \"daily\"\n",
    "test_diary = '起来晚了，第一堂课没来得及上，空堂时可筠的同学宁家英来了，告诉我有一封信，是武昌来的，果然是可筠的，她说我与一般老朋友真是音信杳然了。然而我的的确确随时都想着她们，只是懒得不想提笔而已。我发现我是真的堕落了，从灵魂堕落起，外表上也许别人以为我活得很有生气，可是实际上我已经不堪了。我需要一点刺激，需要在我的生活来一个大的波浪，这样也许我可能从新干下去。'\n",
    "date = datetime(2025, 3, 15, 14, 30)\n",
    "\n",
    "analyze = EmotionAnalyzer(user_id)\n",
    "result = analyze.analyze(mode, test_diary, date)\n",
    "print(result)"
   ]
  },
  {
   "cell_type": "code",
   "execution_count": null,
   "metadata": {},
   "outputs": [],
   "source": [
    "from LLM.llm import EmotionAnalyzer\n",
    "from datetime import datetime\n",
    "\n",
    "user_id = \"U985\"\n",
    "mode = \"weekly\"\n",
    "start_date = datetime(2024, 3, 9)\n",
    "end_date = datetime(2024, 3, 15)\n",
    "\n",
    "analyze = EmotionAnalyzer(user_id)\n",
    "print(\"已保存的日记日期：\", analyze.get_diary_dates())\n",
    "\n",
    "# 指定日期模式\n",
    "result = analyze.analyze(\n",
    "    mode = mode, \n",
    "    start_date=start_date, \n",
    "    end_date=end_date)\n",
    "print(result)\n",
    "\n",
    "# 默认日期模式（过去7天）\n",
    "result = analyze.analyze(\n",
    "    mode = mode, \n",
    ")\n",
    "print(result)"
   ]
  }
 ],
 "metadata": {
  "kernelspec": {
   "display_name": "langchain-env",
   "language": "python",
   "name": "python3"
  },
  "language_info": {
   "codemirror_mode": {
    "name": "ipython",
    "version": 3
   },
   "file_extension": ".py",
   "mimetype": "text/x-python",
   "name": "python",
   "nbconvert_exporter": "python",
   "pygments_lexer": "ipython3",
   "version": "3.10.16"
  }
 },
 "nbformat": 4,
 "nbformat_minor": 2
}
