{
 "cells": [
  {
   "cell_type": "code",
   "execution_count": 1,
   "metadata": {},
   "outputs": [
    {
     "name": "stdout",
     "output_type": "stream",
     "text": [
      "[DEBUG] 正在创建/访问用户目录：/Users/coffee/Work/Vs Code/web_for_Inksoul/data_base/diary_db/U886\n"
     ]
    },
    {
     "name": "stderr",
     "output_type": "stream",
     "text": [
      "Number of requested results 20 is greater than number of elements in index 7, updating n_results = 7\n"
     ]
    },
    {
     "name": "stdout",
     "output_type": "stream",
     "text": [
      "{'emotional_basis': {'喜悦': 5, '信任': 10, '害怕': 35, '惊讶': 25, '难过': 30, '厌恶': 40, '生气': 20, '期待': 15}, 'emotion_type': ['理想幻灭的冲击', '现实认知焦虑', '价值体系崩塌的恐慌'], 'keywords': ['现实觉醒', '身份危机', '教育质疑'], 'immediate_suggestion': ['实施『认知重构训练』：用三栏法记录『原有认知-证据核查-新认知』，比如将『学校里学不到真本事』转化为『我需要建立课堂外能力培养计划』', '启动『现实梯度暴露』：制定阶段性职业探索计划，每周完成2个行业访谈或岗位体验，用渐进方式接触职场信息', '进行『意义感重塑日记』：每天记录三个具体的能力增长点（如沟通/数据分析等），建立可迁移技能清单', '开展『时间锚点冥想』：当焦虑发作时，通过呼吸法将注意力集中在当下，配合『五年后的我』可视化想象练习']}\n"
     ]
    }
   ],
   "source": [
    "from LLM.llm import EmotionAnalyzer\n",
    "\n",
    "user_id = \"U886\"\n",
    "mode = \"daily\"\n",
    "test_diary = \"以前我老觉得学生生活高贵，尤其是入了清华，简直有腚上长尾巴的神气，绝不会想到毕业后找职业的困难。今年暑假回家，仿佛触到一点现实似的。一方面又受了大千老兄（美国留学生）找职业碰壁的刺戟（应为“激”字）——忽然醒过来了，这一醒不打紧，却出了一身冷汗。我对学生生活起了反感，因为学生（生活）在学校里求不到学问，出了校门碰壁。我看了这些摇头摆尾的先生，真觉得可怜啊！\"\n",
    "\n",
    "analyze = EmotionAnalyzer(user_id)\n",
    "result = analyze.analyze(mode, test_diary)\n",
    "print(result)"
   ]
  }
 ],
 "metadata": {
  "kernelspec": {
   "display_name": "langchain-env",
   "language": "python",
   "name": "python3"
  },
  "language_info": {
   "codemirror_mode": {
    "name": "ipython",
    "version": 3
   },
   "file_extension": ".py",
   "mimetype": "text/x-python",
   "name": "python",
   "nbconvert_exporter": "python",
   "pygments_lexer": "ipython3",
   "version": "3.10.16"
  }
 },
 "nbformat": 4,
 "nbformat_minor": 2
}
