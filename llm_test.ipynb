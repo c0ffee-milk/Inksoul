{
 "cells": [
  {
   "cell_type": "code",
   "execution_count": 1,
   "metadata": {},
   "outputs": [
    {
     "name": "stdout",
     "output_type": "stream",
     "text": [
      "[DEBUG] 正在创建/访问用户目录：/Users/coffee/Work/Vs Code/web_for_Inksoul/data_base/diary_db/U985\n"
     ]
    },
    {
     "name": "stderr",
     "output_type": "stream",
     "text": [
      "Number of requested results 20 is greater than number of elements in index 7, updating n_results = 7\n",
      "2025-03-17 10:09:06,837 - EmotionAnalyzer.U985 - WARNING - [WARNING] 检测到重复日记，跳过保存\n"
     ]
    },
    {
     "name": "stdout",
     "output_type": "stream",
     "text": [
      "{'emotional_basis': {'喜悦': 10, '信任': 15, '害怕': 20, '惊讶': 25, '难过': 30, '厌恶': 10, '生气': 5, '期待': 25}, 'emotion_type': ['怀旧', '孤独', '迷茫'], 'keywords': ['阁楼储物箱', '断线风筝', '夜风', '海浪声'], 'immediate_suggestion': {'音乐推荐': '推荐听一些轻柔的民谣或古典音乐，如《River Flows in You》或《月光奏鸣曲》，以帮助放松心情。', '电影/书籍推荐': '推荐观看电影《海上钢琴师》或阅读村上春树的《挪威的森林》，这些作品能够引发对生活和自我探索的思考。', '活动建议': '今天适合进行一次安静的散步，尤其是在夜晚，感受自然的声音和气息，有助于情绪的释放和调节。', '心理调节小技巧': '尝试进行深呼吸练习，闭上眼睛，深吸一口气，慢慢呼出，重复几次，有助于缓解内心的焦虑和迷茫。'}}\n"
     ]
    }
   ],
   "source": [
    "from LLM.llm import EmotionAnalyzer\n",
    "from datetime import datetime\n",
    "\n",
    "\n",
    "user_id = \"U985\"\n",
    "mode = \"daily\"\n",
    "test_diary = '阁楼储物箱的霉味里混进柳絮气息，断线风筝的竹骨在月光下咯吱作响。去年缠在晾衣架上的风筝线突然自行松脱，在水泥地上蜿蜒成未标注的河道。而夜风途经生锈的自行车铃时，捎来了遥远的海浪声。'\n",
    "date = datetime(2025, 3, 15, 14, 30)\n",
    "\n",
    "analyze = EmotionAnalyzer(user_id)\n",
    "result = analyze.analyze(mode, test_diary, date)\n",
    "print(result)"
   ]
  },
  {
   "cell_type": "code",
   "execution_count": 1,
   "metadata": {},
   "outputs": [
    {
     "name": "stdout",
     "output_type": "stream",
     "text": [
      "[DEBUG] 正在创建/访问用户目录：/Users/coffee/Work/Vs Code/web_for_Inksoul/data_base/diary_db/U985\n",
      "已保存的日记日期： ['2024-03-09', '2024-03-10', '2024-03-11', '2024-03-12', '2024-03-13', '2024-03-14', '2024-03-15', '2025-03-09', '2025-03-10', '2025-03-11', '2025-03-12', '2025-03-13', '2025-03-14', '2025-03-15']\n"
     ]
    },
    {
     "name": "stderr",
     "output_type": "stream",
     "text": [
      "Number of requested results 20 is greater than number of elements in index 7, updating n_results = 7\n",
      "Number of requested results 20 is greater than number of elements in index 14, updating n_results = 14\n"
     ]
    },
    {
     "name": "stdout",
     "output_type": "stream",
     "text": [
      "{'emotional_basis': {'喜悦': 15, '信任': 20, '害怕': 10, '惊讶': 15, '难过': 25, '厌恶': 5, '生气': 5, '期待': 5}, 'domain_event': [{'event': '整理旧杂志和铁盒中的物品', 'emotion': '难过'}, {'event': '收到小鹿的消息，回忆过去', 'emotion': '期待'}, {'event': '便利店购物，回忆校庆', 'emotion': '惊讶'}, {'event': '地铁早高峰，回忆英语老师', 'emotion': '信任'}, {'event': '深夜整理伞筒，回忆合唱比赛', 'emotion': '难过'}, {'event': '整理书架，回忆电影票根', 'emotion': '喜悦'}, {'event': '洗衣房烘干机，回忆游泳队选拔', 'emotion': '期待'}], 'emotion_trend': '情绪变化趋势显示，整体情绪以难过和期待为主，伴随着偶尔的喜悦和惊讶。情绪波动较大，尤其是在回忆过去的事件时，情绪容易陷入低谷。', 'weekly_advice': '建议尝试通过正念冥想或写日记的方式，梳理和表达内心的情感。同时，可以尝试与朋友或家人分享这些回忆，以减轻内心的负担。长期来看，建议寻找新的兴趣爱好或社交活动，以转移注意力并提升情绪。', 'event_key_words': ['整理旧杂志', '铁盒中的信', '小鹿的消息', '便利店购物', '地铁早高峰', '深夜整理伞筒', '整理书架', '洗衣房烘干机'], 'emotion_key_words': ['难过', '期待', '惊讶', '信任', '喜悦', '回忆', '波动', '低谷'], 'famous_quote': '“生活不是等待风暴过去，而是学会在雨中跳舞。” —— 维维安·格林'}\n"
     ]
    },
    {
     "name": "stderr",
     "output_type": "stream",
     "text": [
      "Number of requested results 20 is greater than number of elements in index 7, updating n_results = 7\n",
      "Number of requested results 20 is greater than number of elements in index 14, updating n_results = 14\n"
     ]
    },
    {
     "name": "stdout",
     "output_type": "stream",
     "text": [
      "{'emotional_basis': {'喜悦': 20, '信任': 15, '害怕': 10, '惊讶': 15, '难过': 15, '厌恶': 5, '生气': 5, '期待': 15}, 'domain_event': [{'event': '风筝线松脱，夜风带来海浪声', 'emotion': '惊讶'}, {'event': '冰箱门便签纸模糊，煮红豆汤', 'emotion': '期待'}, {'event': '地理课本扉页的世界地图被折成纸飞机', 'emotion': '难过'}, {'event': '二手书店收银台的老收音机播放气象预报', 'emotion': '惊讶'}, {'event': '图书馆古籍修复室飘来咖啡香', 'emotion': '信任'}, {'event': '美术馆暖气出风口粘着片雪花', 'emotion': '喜悦'}], 'emotion_trend': '情绪变化较为平稳，整体以惊讶和期待为主，偶尔有难过和喜悦的情绪波动。', 'weekly_advice': '建议继续保持对生活的观察和记录，通过日记来梳理情绪，增强自我认知。同时，可以尝试通过冥想或深呼吸等放松技巧来缓解偶尔的负面情绪。', 'event_key_words': ['风筝线松脱', '夜风带来海浪声', '冰箱门便签纸模糊', '煮红豆汤', '地理课本扉页的世界地图', '二手书店收银台的老收音机', '图书馆古籍修复室', '美术馆暖气出风口'], 'emotion_key_words': ['惊讶', '期待', '难过', '信任', '喜悦'], 'famous_quote': '生活不是等待风暴过去，而是学会在雨中翩翩起舞。 —— 未知'}\n"
     ]
    }
   ],
   "source": [
    "from LLM.llm import EmotionAnalyzer\n",
    "from datetime import datetime\n",
    "\n",
    "user_id = \"U985\"\n",
    "mode = \"weekly\"\n",
    "start_date = datetime(2024, 3, 9)\n",
    "end_date = datetime(2024, 3, 15)\n",
    "\n",
    "analyze = EmotionAnalyzer(user_id)\n",
    "print(\"已保存的日记日期：\", analyze.get_diary_dates())\n",
    "\n",
    "# 指定日期模式\n",
    "result = analyze.analyze(\n",
    "    mode = mode, \n",
    "    start_date=start_date, \n",
    "    end_date=end_date)\n",
    "print(result)\n",
    "\n",
    "# 默认日期模式（过去7天）\n",
    "result = analyze.analyze(\n",
    "    mode = mode, \n",
    ")\n",
    "print(result)"
   ]
  }
 ],
 "metadata": {
  "kernelspec": {
   "display_name": "langchain-env",
   "language": "python",
   "name": "python3"
  },
  "language_info": {
   "codemirror_mode": {
    "name": "ipython",
    "version": 3
   },
   "file_extension": ".py",
   "mimetype": "text/x-python",
   "name": "python",
   "nbconvert_exporter": "python",
   "pygments_lexer": "ipython3",
   "version": "3.10.16"
  }
 },
 "nbformat": 4,
 "nbformat_minor": 2
}
