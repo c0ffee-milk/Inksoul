{
 "cells": [
  {
   "cell_type": "code",
   "execution_count": 1,
   "metadata": {},
   "outputs": [
    {
     "name": "stdout",
     "output_type": "stream",
     "text": [
      "[DEBUG] 正在创建/访问用户目录：/Users/coffee/Work/Vs Code/web_for_Inksoul/data_base/diary_db/U886\n"
     ]
    },
    {
     "name": "stderr",
     "output_type": "stream",
     "text": [
      "Number of requested results 20 is greater than number of elements in index 7, updating n_results = 7\n",
      "2025-03-14 10:57:24,901 - EmotionAnalyzer.U886 - WARNING - [WARNING] 检测到重复日记，跳过保存\n",
      "Number of requested results 20 is greater than number of elements in index 1, updating n_results = 1\n"
     ]
    },
    {
     "name": "stdout",
     "output_type": "stream",
     "text": [
      "{'emotional_basis': {'喜悦': 5, '信任': 10, '害怕': 30, '惊讶': 20, '难过': 25, '厌恶': 15, '生气': 10, '期待': 5}, 'emotion_type': ['焦虑', '失望', '困惑'], 'keywords': ['现实冲击', '学生生活反感', '职业困难'], 'immediate_suggestion': ['尝试与朋友或家人分享你的感受，寻求情感支持。', '设定短期和长期目标，帮助自己逐步适应现实挑战。', '参与一些放松身心的活动，如运动或冥想，以缓解焦虑情绪。', '考虑寻求职业咨询，了解更多的职业选择和规划建议。']}\n"
     ]
    }
   ],
   "source": [
    "from LLM.llm import EmotionAnalyzer\n",
    "\n",
    "user_id = \"U886\"\n",
    "mode = \"daily\"\n",
    "test_diary = \"以前我老觉得学生生活高贵，尤其是入了清华，简直有腚上长尾巴的神气，绝不会想到毕业后找职业的困难。今年暑假回家，仿佛触到一点现实似的。一方面又受了大千老兄（美国留学生）找职业碰壁的刺戟（应为“激”字）——忽然醒过来了，这一醒不打紧，却出了一身冷汗。我对学生生活起了反感，因为学生（生活）在学校里求不到学问，出了校门碰壁。我看了这些摇头摆尾的先生，真觉得可怜啊！\"\n",
    "\n",
    "analyze = EmotionAnalyzer(user_id)\n",
    "result = analyze.analyze(mode, test_diary)\n",
    "print(result)"
   ]
  }
 ],
 "metadata": {
  "kernelspec": {
   "display_name": "langchain-env",
   "language": "python",
   "name": "python3"
  },
  "language_info": {
   "codemirror_mode": {
    "name": "ipython",
    "version": 3
   },
   "file_extension": ".py",
   "mimetype": "text/x-python",
   "name": "python",
   "nbconvert_exporter": "python",
   "pygments_lexer": "ipython3",
   "version": "3.10.16"
  }
 },
 "nbformat": 4,
 "nbformat_minor": 2
}
