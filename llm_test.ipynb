{
 "cells": [
  {
   "cell_type": "code",
   "execution_count": 2,
   "metadata": {},
   "outputs": [
    {
     "name": "stdout",
     "output_type": "stream",
     "text": [
      "[DEBUG] 正在创建/访问用户目录：/Users/coffee/Work/VsCode/web_for_Inksoul/data_base/diary_db/U211\n"
     ]
    },
    {
     "name": "stderr",
     "output_type": "stream",
     "text": [
      "2025-04-08 14:47:32,369 - EmotionAnalyzer.U211 - INFO - [SUCCESS] 日记已保存（时间：2024-06-18 14:30:00）\n"
     ]
    },
    {
     "name": "stdout",
     "output_type": "stream",
     "text": [
      "{'overall_analysis': '您的日记在流动的日常中编织出诗意与疏离的交响：清晨的太极韵律与陌生善意带来温暖联结，旧书店的时光琥珀与过期里程则叩击着存在主义焦虑。科技与传统的碰撞（赛博弄堂/石库门青苔）、人群中的孤独共鸣（电梯镜面倒影），共同构成当代都市人的精神切片。', 'emotional_basis': {'喜悦': 40, '信任': 35, '害怕': 10, '惊讶': 20, '难过': 30, '厌恶': 5, '生气': 5, '期待': 15}, 'emotion_label': ['宁静的忧郁', '存在主义沉思', '温和的疏离感', '文化乡愁'], 'emotion_type': '平和', 'keywords': {'keyword1': '太极白衣', 'keyword2': '过期里程', 'keyword3': '粮票连环画', 'keyword4': '赛博弄堂', 'keyword5': '电梯镜面', 'keyword6': '灰尘探戈', 'keyword7': '南瓜饼体温'}, 'immediate_suggestion': {'music': {'music_suggestion1': '久石让《Summer》- 钢琴旋律能熨平晨跑记忆里的褶皱', 'music_suggestion2': '坂本龙一《async》- 电子音墙与留白适合沉淀旧书店的时光'}, 'books': '汪曾祺《人间草木》- 市井烟火与永恒瞬间的捕捉艺术', 'activities': '今夜可步行至最近的传统菜场，观察摊主与顾客指尖传递纸币的姿势', 'techniques': '正念呼吸时想象自己是被夹在书页间的粮票，感受时光压痕的重量'}, 'history_moment': '1935年本雅明在巴黎拱廊街收集城市碎片时，同样在旧书页间发现过期的舞会票根，他将这种时空错位写进了《单向街》'}\n"
     ]
    }
   ],
   "source": [
    "from LLM.llm import EmotionAnalyzer\n",
    "from datetime import datetime\n",
    "\n",
    "\n",
    "user_id = \"U211\"\n",
    "mode = \"daily\"\n",
    "test_diary = '晨跑时撞见梧桐树下练太极的老人们，白衣随动作翻飞如鸽群，收势时齐齐朝我点头微笑，仿佛整条街道都在呼吸。拐角早餐铺的油墩子涨价五毛，老板娘硬塞给我两个刚炸的南瓜饼：\"年轻人流汗多，补补糖分。\"午后在旧书店消磨时光，发现1987年版《上海滩》连环画夹着张泛黄的粮票。戴圆框眼镜的店主正给流浪猫读《追忆似水年华》，阳光斜切过书架，灰尘在光柱里跳探戈。突然收到航空公司升舱短信，才想起三年前囤的里程快过期——那些计划着去冰岛看极光的夜晚，原来和罐头一样有保质期。暮色里帮邻居修智能门锁，00后男孩递来的工具箱贴着奥特曼贴纸。他抱怨元宇宙课程作业要建\"赛博弄堂\"，却说不清石库门砖缝里的青苔该怎么用代码渲染。回家时电梯镜面映出四张相似的疲惫面孔，我们默契地数着楼层数字，在\"叮\"的一声里各自溶解进防盗门后的灯火。'\n",
    "date = datetime(2024, 6, 18, 14, 30, 0)\n",
    "\n",
    "analyze = EmotionAnalyzer(user_id)\n",
    "result = analyze.analyze(mode, test_diary, date.timestamp())\n",
    "print(result)"
   ]
  },
  {
   "cell_type": "code",
   "execution_count": 3,
   "metadata": {},
   "outputs": [
    {
     "name": "stdout",
     "output_type": "stream",
     "text": [
      "[DEBUG] 正在创建/访问用户目录：/Users/coffee/Work/VsCode/web_for_Inksoul/data_base/diary_db/U211\n",
      "已保存的日记日期： ['2024-06-15', '2024-06-16', '2024-06-17', '2024-06-18']\n"
     ]
    },
    {
     "name": "stderr",
     "output_type": "stream",
     "text": [
      "Number of requested results 20 is greater than number of elements in index 4, updating n_results = 4\n"
     ]
    },
    {
     "name": "stdout",
     "output_type": "stream",
     "text": [
      "{'diary_review': '您在过去的日子里经历了一场微妙的情绪漫游：晨间桂花香与生锈的琴弦交织，财务会议里的唇枪舌战与婴儿奶香奇妙共存。透过江西拌粉的灼热辣意，您捕捉到同事间难得的默契；在元宇宙与粮票的对撞中，触摸到时光的褶皱。那些未发送的对话框、快过期的里程积分、智能门锁上的奥特曼贴纸，构成了现代都市人特有的诗意与荒诞。', 'emotional_basis': {'喜悦': 35, '信任': 20, '害怕': 10, '惊讶': 25, '难过': 15, '厌恶': 5, '生气': 8, '期待': 42}, 'domain_event': {'day1': {'event': '提案通过后在楼梯间啃胜利三明治', 'emotion': '欣慰'}, 'day2': {'event': '看见踩水坑女孩想起童年自己', 'emotion': '怅然'}, 'day3': {'event': '母婴话题与元宇宙讨论的时空穿梭', 'emotion': '荒诞感'}, 'day4': {'event': '发现过期里程与赛博弄堂作业', 'emotion': '存在焦虑'}}, 'emotion_trend': '情绪呈现涟漪式波动，日常小确幸与深层焦虑交替浮现。期待值始终作为基底色存在，如同未熄灭的星火；惊讶感在偶遇旧物时达到峰值，难过情绪如潮汐规律性漫过现实与回忆的边界。', 'weekly_advice': '建议每天花15分钟整理旅行相册/游记唤醒冒险记忆；将《百年孤独》置于床头柜开启每日睡前10分钟阅读；用手机录制30秒吉他即兴片段作为生活BGM；选购薄荷味香薰延续键盘旁的清凉仪式。', 'event_key_words': {'event_keyword1': '老桂开花', 'event_keyword2': '提案攻坚', 'event_keyword3': '童年闪回', 'event_keyword4': '元宇宙对话', 'event_keyword5': '时光凭证'}, 'emotion_key_words': {'emotion_keyword1': '怀旧', 'emotion_keyword2': '疏离', 'emotion_keyword3': '守望', 'emotion_keyword4': '悬浮感', 'emotion_keyword5': '微期待'}, 'famous_quote': '「真正的发现之旅不在于寻找新风景，而在于拥有新眼光。」——马塞尔·普鲁斯特《追忆似水年华》'}\n"
     ]
    }
   ],
   "source": [
    "from LLM.llm import EmotionAnalyzer\n",
    "from datetime import datetime\n",
    "\n",
    "user_id = \"U211\"\n",
    "mode = \"weekly\"\n",
    "start_date = datetime(2024, 6, 15)\n",
    "end_date = datetime(2024, 6, 30)\n",
    "\n",
    "analyze = EmotionAnalyzer(user_id)\n",
    "print(\"已保存的日记日期：\", analyze.get_diary_dates())\n",
    "\n",
    "# 指定日期模式\n",
    "result = analyze.analyze(\n",
    "    mode = mode, \n",
    "    start_date=start_date, \n",
    "    end_date=end_date)\n",
    "print(result)\n",
    "\n",
    "# 默认日期模式（过去7天）\n",
    "# result = analyze.analyze(\n",
    "#     mode = mode, \n",
    "# )\n",
    "# print(result)"
   ]
  },
  {
   "cell_type": "code",
   "execution_count": null,
   "metadata": {},
   "outputs": [],
   "source": [
    "from LLM.llm import EmotionAnalyzer\n",
    "from datetime import datetime\n",
    "\n",
    "user_id = \"U211\"\n",
    "mode = \"daily\"\n",
    "test_diary = \"test\"\n",
    "date = datetime(2024, 6, 15, 14, 30, 0)\n",
    "\n",
    "analyze = EmotionAnalyzer(user_id)\n",
    "result = analyze.analyze(mode, test_diary, date.timestamp())\n",
    "print(result)\n",
    "print(\"已保存的日记日期：\", analyze.get_diary_dates())"
   ]
  },
  {
   "cell_type": "code",
   "execution_count": 3,
   "metadata": {},
   "outputs": [
    {
     "name": "stderr",
     "output_type": "stream",
     "text": [
      "2025-04-08 14:17:38,020 - EmotionAnalyzer.U211 - INFO - [SUCCESS] 已删除 2024-06-17 14:30:00 的日记 (ID: ['58e5f3ca-812d-4a69-9a90-0f031e355042'])\n"
     ]
    },
    {
     "name": "stdout",
     "output_type": "stream",
     "text": [
      "[DEBUG] 正在创建/访问用户目录：/Users/coffee/Work/VsCode/web_for_Inksoul/data_base/diary_db/U211\n",
      "已保存的日记日期： ['2024-06-17']\n",
      "{'status': 'success', 'message': '日记删除成功', 'deleted_time': '2024-06-17T14:30:00', 'deleted_ids': ['58e5f3ca-812d-4a69-9a90-0f031e355042']}\n",
      "已保存的日记日期： []\n"
     ]
    }
   ],
   "source": [
    "from LLM.llm import EmotionAnalyzer\n",
    "from datetime import datetime\n",
    "\n",
    "user_id = \"U211\"\n",
    "date = datetime(2024, 6, 17, 14, 30, 0)\n",
    "\n",
    "analyze = EmotionAnalyzer(user_id)  # 创建新实例\n",
    "print(\"已保存的日记日期：\", analyze.get_diary_dates())\n",
    "delete_result = analyze.delete_diary(date)\n",
    "print(delete_result)\n",
    "print(\"已保存的日记日期：\", analyze.get_diary_dates())"
   ]
  }
 ],
 "metadata": {
  "kernelspec": {
   "display_name": "langchain-env",
   "language": "python",
   "name": "python3"
  },
  "language_info": {
   "codemirror_mode": {
    "name": "ipython",
    "version": 3
   },
   "file_extension": ".py",
   "mimetype": "text/x-python",
   "name": "python",
   "nbconvert_exporter": "python",
   "pygments_lexer": "ipython3",
   "version": "3.10.16"
  }
 },
 "nbformat": 4,
 "nbformat_minor": 2
}
