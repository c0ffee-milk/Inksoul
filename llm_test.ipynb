{
 "cells": [
  {
   "cell_type": "code",
   "execution_count": 8,
   "metadata": {},
   "outputs": [
    {
     "name": "stdout",
     "output_type": "stream",
     "text": [
      "[DEBUG] 正在创建/访问用户目录：/Users/coffee/Work/Vs Code/web_for_Inksoul/data_base/diary_db/U985\n"
     ]
    },
    {
     "name": "stderr",
     "output_type": "stream",
     "text": [
      "Number of requested results 20 is greater than number of elements in index 7, updating n_results = 7\n",
      "2025-03-15 12:20:19,192 - EmotionAnalyzer.U985 - INFO - [SUCCESS] 日记已保存: 阁楼储物箱的霉味里混进柳絮气息，断线风筝...\n",
      "Number of requested results 20 is greater than number of elements in index 14, updating n_results = 14\n"
     ]
    },
    {
     "name": "stdout",
     "output_type": "stream",
     "text": [
      "{'emotional_basis': {'喜悦': 10, '信任': 5, '害怕': 20, '惊讶': 15, '难过': 30, '厌恶': 10, '生气': 5, '期待': 5}, 'emotion_type': ['怀旧', '孤独', '遗憾'], 'keywords': ['怀旧', '孤独', '遗憾'], 'immediate_suggestion': '建议用户尝试通过整理旧物或与朋友分享回忆来缓解怀旧和孤独感。同时，可以尝试新的活动或爱好，以转移注意力并减少遗憾感。'}\n"
     ]
    }
   ],
   "source": [
    "from LLM.llm import EmotionAnalyzer\n",
    "from datetime import datetime\n",
    "\n",
    "\n",
    "user_id = \"U985\"\n",
    "mode = \"daily\"\n",
    "test_diary = '阁楼储物箱的霉味里混进柳絮气息，断线风筝的竹骨在月光下咯吱作响。去年缠在晾衣架上的风筝线突然自行松脱，在水泥地上蜿蜒成未标注的河道。而夜风途经生锈的自行车铃时，捎来了遥远的海浪声。'\n",
    "date = datetime(2025, 3, 15, 14, 30)\n",
    "\n",
    "analyze = EmotionAnalyzer(user_id)\n",
    "result = analyze.analyze(mode, test_diary, date)\n",
    "print(result)"
   ]
  },
  {
   "cell_type": "code",
   "execution_count": 9,
   "metadata": {},
   "outputs": [
    {
     "name": "stdout",
     "output_type": "stream",
     "text": [
      "[DEBUG] 正在创建/访问用户目录：/Users/coffee/Work/Vs Code/web_for_Inksoul/data_base/diary_db/U985\n",
      "已保存的日记日期： ['2024-03-09', '2024-03-10', '2024-03-11', '2024-03-12', '2024-03-13', '2024-03-14', '2024-03-15', '2025-03-09', '2025-03-10', '2025-03-11', '2025-03-12', '2025-03-13', '2025-03-14', '2025-03-15']\n"
     ]
    },
    {
     "name": "stderr",
     "output_type": "stream",
     "text": [
      "Number of requested results 20 is greater than number of elements in index 7, updating n_results = 7\n",
      "Number of requested results 20 is greater than number of elements in index 14, updating n_results = 14\n"
     ]
    },
    {
     "name": "stdout",
     "output_type": "stream",
     "text": [
      "{'emotional_basis': {'喜悦': 15, '信任': 20, '害怕': 10, '惊讶': 15, '难过': 25, '厌恶': 5, '生气': 5, '期待': 15}, 'dominant_emotion': '难过', 'emotion_trend': '本周的情绪波动较大，从整理旧物时的怀旧和淡淡的忧伤，到与朋友互动时的短暂喜悦，再到对过去未完成事项的遗憾和期待。整体上，情绪呈现出一种从怀旧到期待的变化趋势，但难过的情绪占据了主导地位。', 'weekly_advice': '建议尝试通过整理和回顾过去来释放情感，同时设定一些新的小目标，以增加生活中的期待感和成就感。与朋友保持联系，分享彼此的生活，也有助于缓解孤独感和怀旧情绪。', 'key_words': ['怀旧', '整理', '期待', '朋友', '未完成事项']}\n"
     ]
    },
    {
     "name": "stderr",
     "output_type": "stream",
     "text": [
      "Number of requested results 20 is greater than number of elements in index 7, updating n_results = 7\n",
      "Number of requested results 20 is greater than number of elements in index 14, updating n_results = 14\n"
     ]
    },
    {
     "name": "stdout",
     "output_type": "stream",
     "text": [
      "{'emotional_basis': {'喜悦': 30, '信任': 25, '害怕': 10, '惊讶': 15, '难过': 10, '厌恶': 5, '生气': 5, '期待': 40}, 'dominant_emotion': '期待', 'emotion_trend': '本周的情绪趋势显示出一种强烈的期待感，伴随着对未来的憧憬和希望。同时，喜悦和信任的情绪也较为显著，表明你对生活中的小细节和自然变化感到满足和安心。害怕和难过的情绪较低，显示出你本周较为积极和乐观。', 'weekly_advice': '继续保持对生活的积极态度，利用你的期待感来设定和追求新的目标。同时，注意平衡情绪，避免过度期待带来的压力。可以尝试通过冥想或写日记来更好地理解和调节自己的情绪。', 'key_words': ['期待', '自然变化', '憧憬', '积极', '目标']}\n"
     ]
    }
   ],
   "source": [
    "from LLM.llm import EmotionAnalyzer\n",
    "from datetime import datetime\n",
    "\n",
    "user_id = \"U985\"\n",
    "mode = \"weekly\"\n",
    "start_date = datetime(2024, 3, 9)\n",
    "end_date = datetime(2024, 3, 15)\n",
    "\n",
    "analyze = EmotionAnalyzer(user_id)\n",
    "print(\"已保存的日记日期：\", analyze.get_diary_dates())\n",
    "\n",
    "# 指定日期模式\n",
    "result = analyze.analyze(\n",
    "    mode = mode, \n",
    "    start_date=start_date, \n",
    "    end_date=end_date)\n",
    "print(result)\n",
    "\n",
    "# 默认日期模式（过去7天）\n",
    "result = analyze.analyze(\n",
    "    mode = mode, \n",
    ")\n",
    "print(result)"
   ]
  }
 ],
 "metadata": {
  "kernelspec": {
   "display_name": "langchain-env",
   "language": "python",
   "name": "python3"
  },
  "language_info": {
   "codemirror_mode": {
    "name": "ipython",
    "version": 3
   },
   "file_extension": ".py",
   "mimetype": "text/x-python",
   "name": "python",
   "nbconvert_exporter": "python",
   "pygments_lexer": "ipython3",
   "version": "3.10.16"
  }
 },
 "nbformat": 4,
 "nbformat_minor": 2
}
