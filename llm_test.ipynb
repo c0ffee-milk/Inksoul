{
 "cells": [
  {
   "cell_type": "code",
   "execution_count": null,
   "metadata": {},
   "outputs": [],
   "source": [
    "from LLM.llm import EmotionAnalyzer\n",
    "from datetime import datetime\n",
    "\n",
    "\n",
    "user_id = \"U211\"\n",
    "mode = \"daily\"\n",
    "test_diary = '2024-6-18\\n晨跑时撞见梧桐树下练太极的老人们，白衣随动作翻飞如鸽群，收势时齐齐朝我点头微笑，仿佛整条街道都在呼吸。拐角早餐铺的油墩子涨价五毛，老板娘硬塞给我两个刚炸的南瓜饼：\"年轻人流汗多，补补糖分。\"午后在旧书店消磨时光，发现1987年版《上海滩》连环画夹着张泛黄的粮票。戴圆框眼镜的店主正给流浪猫读《追忆似水年华》，阳光斜切过书架，灰尘在光柱里跳探戈。突然收到航空公司升舱短信，才想起三年前囤的里程快过期——那些计划着去冰岛看极光的夜晚，原来和罐头一样有保质期。暮色里帮邻居修智能门锁，00后男孩递来的工具箱贴着奥特曼贴纸。他抱怨元宇宙课程作业要建\"赛博弄堂\"，却说不清石库门砖缝里的青苔该怎么用代码渲染。回家时电梯镜面映出四张相似的疲惫面孔，我们默契地数着楼层数字，在\"叮\"的一声里各自溶解进防盗门后的灯火。'\n",
    "date = datetime(2024, 6, 18, 14, 30, 0)\n",
    "\n",
    "analyze = EmotionAnalyzer(user_id)\n",
    "result = analyze.analyze(mode, test_diary, date)\n",
    "print(result)"
   ]
  },
  {
   "cell_type": "code",
   "execution_count": 12,
   "metadata": {},
   "outputs": [
    {
     "name": "stdout",
     "output_type": "stream",
     "text": [
      "[DEBUG] 正在创建/访问用户目录：/Users/coffee/Work/VsCode/web_for_Inksoul/data_base/diary_db/U211\n"
     ]
    },
    {
     "name": "stderr",
     "output_type": "stream",
     "text": [
      "2025-04-09 23:04:42,858 - EmotionAnalyzer.U211 - INFO - [SUCCESS] 日记已保存（时间：2024-06-15 14:35:00）\n"
     ]
    },
    {
     "name": "stdout",
     "output_type": "stream",
     "text": [
      "已保存的日记日期： ['2024-06-15', '2024-06-16', '2024-06-17', '2024-06-18']\n"
     ]
    }
   ],
   "source": [
    "from LLM.llm import EmotionAnalyzer\n",
    "from datetime import datetime\n",
    "\n",
    "user_id = \"U211\"\n",
    "date = datetime(2024, 6, 15, 14, 35, 0)\n",
    "diary = '2024-6-15\\n地铁早高峰有人外放短视频，循环播放\"挖呀挖\"神曲。前排穿灰西装的大哥公文包上粘着幼儿园贴纸，屏幕里浮动的K线图和包上歪扭的太阳花构成荒诞对冲。出站时踩到湿漉漉的银杏果，腐坏的气味像被踩碎的秋天。午休溜去新开的无人超市，冷柜里沙拉包装上印着\"数字游牧套餐\"，扫码时机器突然播报：\"您本周摄入纤维不足，建议加购羽衣甘蓝汁。\" 货架深处的AI摄像头闪着蓝光，恍惚觉得不是我在挑选商品，是算法在喂养数据。'\n",
    "\n",
    "analyze = EmotionAnalyzer(user_id)  # 创建新实例\n",
    "log_result = analyze.log_diary(diary, date.timestamp())\n",
    "print(\"已保存的日记日期：\", analyze.get_diary_dates())"
   ]
  },
  {
   "cell_type": "code",
   "execution_count": 1,
   "metadata": {},
   "outputs": [
    {
     "name": "stdout",
     "output_type": "stream",
     "text": [
      "[DEBUG] 正在创建/访问用户目录：/Users/coffee/Work/VsCode/web_for_Inksoul/data_base/diary_db/U211\n",
      "已保存的日记日期： ['2024-06-15', '2024-06-16', '2024-06-17', '2024-06-18']\n"
     ]
    },
    {
     "name": "stderr",
     "output_type": "stream",
     "text": [
      "Number of requested results 20 is greater than number of elements in index 5, updating n_results = 5\n"
     ]
    },
    {
     "name": "stdout",
     "output_type": "stream",
     "text": [
      "{'diary_review': '过去几天里，您的生活像一幅细腻的拼贴画——雨幕中与童年自己的重逢，江西拌粉引发的团队笑闹，2786公里外旧友的星空让您犹豫着点开对话框；清晨的桂花香与焦灼的预算会议形成反差，而客户提案通过的喜悦让楼梯间的三明治吃出庆功宴滋味；飘窗晨光下面包香与钢琴曲的侯麦式浪漫，母婴用品与元宇宙的平行时空对话；梧桐树下的太极鸽群、夹着粮票的旧书、即将过期的里程计划，以及被算法「喂养」的无人超市体验...这些碎片共同编织成您充满诗性张力的日常。', 'emotional_basis': {'喜悦': 35, '信任': 25, '害怕': 10, '惊讶': 20, '难过': 30, '厌恶': 5, '生气': 5, '期待': 40}, 'domain_event': {'2024-6-15': {'event': '客户提案通过带来的成就感', 'emotion': '欣慰与喜悦'}, '2024-6-16': {'event': '看到大学室友的敦煌星空朋友圈', 'emotion': '怀旧与怅惘'}, '2024-6-17': {'event': '与带婴儿的发小聊跨界话题', 'emotion': '温暖与疏离并存'}, '2024-6-18': {'event': '发现过期里程想起未实现的极光计划', 'emotion': '遗憾与时间焦虑'}}, 'emotion_trend': '情绪呈现波浪式起伏，从工作成就感的积极峰值（15日），到怀旧引发的淡淡忧伤（16日），经由人际温暖的缓冲（17日），最终落点在对时间流逝的敏锐觉察（18日）。期待感始终作为基底情绪存在，但常与遗憾情绪形成微妙对冲。', 'weekly_advice': ['实施「5分钟重启计划」：每天选一件停滞事项（如吉他调弦）完成最小行动', '在通勤路上记录三个「此刻陌生化观察」，训练对当下的专注力', '给三位久未联系的朋友发送「无目的性消息」（如分享一首歌链接）', '用手机拍摄九宫格「生活蒙太奇」，周末拼接成情绪拼贴画', '睡前十分钟进行「未来考古」：给三个月后的自己写封三行信'], 'event_key_words': {'童年闪回': 40, '职场幽默': 30, '人际距离': 60, '艺术唤醒': 35, '时间印记': 70, '科技荒诞': 25, '城市诗意': 50, '未完成计划': 65}, 'emotion_key_words': {'温柔的怅惘': 55, '克制的喜悦': 45, '悬浮的期待': 60, '清醒的疏离': 40, '时间焦虑': 50, '瞬间浪漫': 35, '怀旧刺痛': 30, '幽默消解': 20}, 'famous_quote': '「生活的真实质地在细节的褶皱里，当我们凝视一片落叶的经脉，宇宙的秩序便在其中显现。」——奥尔罕·帕慕克《纯真博物馆》'}\n"
     ]
    }
   ],
   "source": [
    "from LLM.llm import EmotionAnalyzer\n",
    "from datetime import datetime\n",
    "\n",
    "user_id = \"U211\"\n",
    "mode = \"weekly\"\n",
    "start_date = datetime(2024, 6, 1)\n",
    "end_date = datetime(2024, 7, 30)\n",
    "\n",
    "analyze = EmotionAnalyzer(user_id)\n",
    "print(\"已保存的日记日期：\", analyze.get_diary_dates())\n",
    "\n",
    "# 指定日期模式\n",
    "result = analyze.analyze(\n",
    "    mode = mode, \n",
    "    start_date=start_date, \n",
    "    end_date=end_date)\n",
    "print(result)\n",
    "\n",
    "# 默认日期模式（过去7天）\n",
    "# result = analyze.analyze(\n",
    "#     mode = mode, \n",
    "# )\n",
    "# print(result)"
   ]
  },
  {
   "cell_type": "code",
   "execution_count": null,
   "metadata": {},
   "outputs": [],
   "source": [
    "from LLM.llm import EmotionAnalyzer\n",
    "from datetime import datetime\n",
    "\n",
    "user_id = \"U211\"\n",
    "date = datetime(2024, 6, 15, 14, 35, 0)\n",
    "\n",
    "analyze = EmotionAnalyzer(user_id)  # 创建新实例\n",
    "print(\"已保存的日记日期：\", analyze.get_diary_dates())\n",
    "delete_result = analyze.delete_diary(date)\n",
    "print(delete_result)\n",
    "print(\"已保存的日记日期：\", analyze.get_diary_dates())"
   ]
  }
 ],
 "metadata": {
  "kernelspec": {
   "display_name": "langchain-env",
   "language": "python",
   "name": "python3"
  },
  "language_info": {
   "codemirror_mode": {
    "name": "ipython",
    "version": 3
   },
   "file_extension": ".py",
   "mimetype": "text/x-python",
   "name": "python",
   "nbconvert_exporter": "python",
   "pygments_lexer": "ipython3",
   "version": "3.10.16"
  }
 },
 "nbformat": 4,
 "nbformat_minor": 2
}
