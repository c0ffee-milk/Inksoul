{
 "cells": [
  {
   "cell_type": "code",
   "execution_count": 1,
   "metadata": {},
   "outputs": [
    {
     "name": "stdout",
     "output_type": "stream",
     "text": [
      "[DEBUG] 正在创建/访问用户目录：/Users/coffee/Work/Vs Code/web_for_Inksoul/data_base/diary_db/U985\n"
     ]
    },
    {
     "name": "stderr",
     "output_type": "stream",
     "text": [
      "Number of requested results 20 is greater than number of elements in index 7, updating n_results = 7\n",
      "/Users/coffee/Work/Vs Code/web_for_Inksoul/LLM/llm.py:228: LangChainDeprecationWarning: Since Chroma 0.4.x the manual persistence method is no longer supported as docs are automatically persisted.\n",
      "  self.diary_db.persist()  # 确保立即持久化\n",
      "2025-03-21 15:51:10,346 - EmotionAnalyzer.U985 - INFO - [SUCCESS] 日记已保存: 是啊，德国人重新武装的那些年，英国人在睡...\n"
     ]
    },
    {
     "name": "stdout",
     "output_type": "stream",
     "text": [
      "{'overall_analysis': '用户的日记内容主要围绕历史事件和其带来的情感影响展开，表达了对过去事件的反思和对当前社会现象的担忧。文本中透露出对历史错误的遗憾和对人性复杂性的深刻理解，同时也表现出对当前社会不公和偏见的愤怒和无奈。整体情绪偏向负面，但包含了对未来的期待和对正义的渴望。', 'emotional_basis': {'喜悦': 5, '信任': 10, '害怕': 25, '惊讶': 15, '难过': 30, '厌恶': 20, '生气': 25, '期待': 20}, 'emotion_type': ['愤怒', '悲伤', '焦虑', '希望'], 'keywords': ['德国人重新武装', '英国鸵鸟政策', '反犹主义', '怨恨', '基督徒'], 'immediate_suggestion': {'音乐推荐': '推荐听一些平静的古典音乐，如贝多芬的《月光奏鸣曲》，以帮助平复情绪。', '电影/书籍推荐': '推荐观看电影《辛德勒的名单》，以更深入地理解历史和人性的复杂性。', '活动建议': '今天适合进行一次长距离散步，帮助整理思绪和放松心情。', '心理调节小技巧': '尝试进行深呼吸练习，每次吸气时数到四，保持四秒，然后缓慢呼气，重复几次以减轻焦虑感。'}}\n"
     ]
    }
   ],
   "source": [
    "from LLM.llm import EmotionAnalyzer\n",
    "from datetime import datetime\n",
    "\n",
    "\n",
    "user_id = \"U985\"\n",
    "mode = \"daily\"\n",
    "test_diary = '是啊，德国人重新武装的那些年，英国人在睡觉，可是其他所有国家，尤其几个和德国毗邻的，也都在睡觉。英国和整个世界如今发现把头埋在沙里没有用，现在个个，尤其英国，都在为自己的鸵鸟政策付出沉重的代价。有人告诉我们，反犹主义在一些先前难以相像的圈子里也纷纷冒出来。这件事对我们有非常非常深的影响。这股怨恨是可以理解的，甚至也许是出于人性，但这怨恨并不会因此而变成对的。基督徒说，犹太人向德国吐露秘密，举发帮助他们的人，害他们遭到已经有那么多人在德国人手中遭到的可怕命运。这是事情。'\n",
    "date = datetime(2025, 3, 15, 14, 30)\n",
    "\n",
    "analyze = EmotionAnalyzer(user_id)\n",
    "result = analyze.analyze(mode, test_diary, date)\n",
    "print(result)"
   ]
  },
  {
   "cell_type": "code",
   "execution_count": null,
   "metadata": {},
   "outputs": [],
   "source": [
    "from LLM.llm import EmotionAnalyzer\n",
    "from datetime import datetime\n",
    "\n",
    "user_id = \"U985\"\n",
    "mode = \"weekly\"\n",
    "start_date = datetime(2024, 3, 9)\n",
    "end_date = datetime(2024, 3, 15)\n",
    "\n",
    "analyze = EmotionAnalyzer(user_id)\n",
    "print(\"已保存的日记日期：\", analyze.get_diary_dates())\n",
    "\n",
    "# 指定日期模式\n",
    "result = analyze.analyze(\n",
    "    mode = mode, \n",
    "    start_date=start_date, \n",
    "    end_date=end_date)\n",
    "print(result)\n",
    "\n",
    "# 默认日期模式（过去7天）\n",
    "result = analyze.analyze(\n",
    "    mode = mode, \n",
    ")\n",
    "print(result)"
   ]
  }
 ],
 "metadata": {
  "kernelspec": {
   "display_name": "langchain-env",
   "language": "python",
   "name": "python3"
  },
  "language_info": {
   "codemirror_mode": {
    "name": "ipython",
    "version": 3
   },
   "file_extension": ".py",
   "mimetype": "text/x-python",
   "name": "python",
   "nbconvert_exporter": "python",
   "pygments_lexer": "ipython3",
   "version": "3.10.16"
  }
 },
 "nbformat": 4,
 "nbformat_minor": 2
}
